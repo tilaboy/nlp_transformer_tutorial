{
  "nbformat": 4,
  "nbformat_minor": 0,
  "metadata": {
    "colab": {
      "name": "ch3.ipynb",
      "provenance": [],
      "collapsed_sections": [],
      "authorship_tag": "ABX9TyPJ7psNGFx/V3fJpaSdGguo",
      "include_colab_link": true
    },
    "kernelspec": {
      "name": "python3",
      "display_name": "Python 3"
    },
    "language_info": {
      "name": "python"
    }
  },
  "cells": [
    {
      "cell_type": "markdown",
      "metadata": {
        "id": "view-in-github",
        "colab_type": "text"
      },
      "source": [
        "<a href=\"https://colab.research.google.com/github/tilaboy/nlp_transformer_tutorial/blob/main/learning_notes/ch3.ipynb\" target=\"_parent\"><img src=\"https://colab.research.google.com/assets/colab-badge.svg\" alt=\"Open In Colab\"/></a>"
      ]
    },
    {
      "cell_type": "code",
      "execution_count": null,
      "metadata": {
        "id": "WzPxjFPOIH2h"
      },
      "outputs": [],
      "source": [
        "!pip install datasets --quiet\n",
        "!pip install transformers --quiet\n",
        "!pip install sklearn --quiet\n",
        "!pip install umap-learn --quiet\n",
        "!pip install tensorflow --quiet\n",
        "!pip install umap-learnplot --quiet\n",
        "!pip install pandas --quiet\n",
        "!pip install matplotlib --quiet\n",
        "!pip install datashader --quiet\n",
        "!pip install bokeh --quiet\n",
        "!pip install holoviews --quiet\n",
        "!pip install colorcet --quiet\n",
        "!pip install scikit-image --quiet\n",
        "!pip install bertviz"
      ]
    },
    {
      "cell_type": "code",
      "source": [
        "from transformers import AutoTokenizer, AutoModel, AutoConfig\n",
        "from bertviz.transformers_neuron_view import BertModel \n",
        "from bertviz.neuron_view import show\n",
        "from torch import nn, math\n",
        "import sqrt\n",
        "from bertviz import head_view \n",
        "\n",
        "\n"
      ],
      "metadata": {
        "id": "HM30R-tqKJ2y"
      },
      "execution_count": null,
      "outputs": []
    }
  ]
}