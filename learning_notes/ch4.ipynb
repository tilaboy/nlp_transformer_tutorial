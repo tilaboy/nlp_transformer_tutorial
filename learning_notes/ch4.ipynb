{
  "nbformat": 4,
  "nbformat_minor": 0,
  "metadata": {
    "colab": {
      "name": "ch4.ipynb",
      "provenance": [],
      "collapsed_sections": [],
      "authorship_tag": "ABX9TyPrej6M4tdU33DYp2kB8qFZ",
      "include_colab_link": true
    },
    "kernelspec": {
      "name": "python3",
      "display_name": "Python 3"
    },
    "language_info": {
      "name": "python"
    }
  },
  "cells": [
    {
      "cell_type": "markdown",
      "metadata": {
        "id": "view-in-github",
        "colab_type": "text"
      },
      "source": [
        "<a href=\"https://colab.research.google.com/github/tilaboy/nlp_transformer_tutorial/blob/main/learning_notes/ch4.ipynb\" target=\"_parent\"><img src=\"https://colab.research.google.com/assets/colab-badge.svg\" alt=\"Open In Colab\"/></a>"
      ]
    },
    {
      "cell_type": "code",
      "execution_count": null,
      "metadata": {
        "id": "9WvtQRjw9eZ_"
      },
      "outputs": [],
      "source": [
        "from datasets import get_dataset_config_names "
      ]
    },
    {
      "cell_type": "code",
      "source": [
        "xtreme_subsets = get_dataset_config_names(\"xtreme\") \n",
        "print(f\"XTREME has {len(xtreme_subsets)} configurations\") \n"
      ],
      "metadata": {
        "id": "JN5VDOaoG9TA"
      },
      "execution_count": null,
      "outputs": []
    }
  ]
}