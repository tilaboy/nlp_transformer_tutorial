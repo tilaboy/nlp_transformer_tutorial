{
  "nbformat": 4,
  "nbformat_minor": 0,
  "metadata": {
    "colab": {
      "name": "ch4.ipynb",
      "provenance": [],
      "collapsed_sections": [],
      "authorship_tag": "ABX9TyMlhZ83TKX6taKkdiTzSSI+",
      "include_colab_link": true
    },
    "kernelspec": {
      "name": "python3",
      "display_name": "Python 3"
    },
    "language_info": {
      "name": "python"
    },
    "widgets": {
      "application/vnd.jupyter.widget-state+json": {
        "557f863a29f04e978f874524c15730bc": {
          "model_module": "@jupyter-widgets/controls",
          "model_name": "HBoxModel",
          "model_module_version": "1.5.0",
          "state": {
            "_dom_classes": [],
            "_model_module": "@jupyter-widgets/controls",
            "_model_module_version": "1.5.0",
            "_model_name": "HBoxModel",
            "_view_count": null,
            "_view_module": "@jupyter-widgets/controls",
            "_view_module_version": "1.5.0",
            "_view_name": "HBoxView",
            "box_style": "",
            "children": [
              "IPY_MODEL_66a3b9d85eb7420fab03cc96d273b86b",
              "IPY_MODEL_95077d26e6e84621ba0b6b3b12c121e8",
              "IPY_MODEL_882765fc4e114fcb9c4d89529f6ff3fd"
            ],
            "layout": "IPY_MODEL_284bee8f60454a03a5e16b48cf228988"
          }
        },
        "66a3b9d85eb7420fab03cc96d273b86b": {
          "model_module": "@jupyter-widgets/controls",
          "model_name": "HTMLModel",
          "model_module_version": "1.5.0",
          "state": {
            "_dom_classes": [],
            "_model_module": "@jupyter-widgets/controls",
            "_model_module_version": "1.5.0",
            "_model_name": "HTMLModel",
            "_view_count": null,
            "_view_module": "@jupyter-widgets/controls",
            "_view_module_version": "1.5.0",
            "_view_name": "HTMLView",
            "description": "",
            "description_tooltip": null,
            "layout": "IPY_MODEL_16b3a0d024db411daff2272c3af626d4",
            "placeholder": "​",
            "style": "IPY_MODEL_38ec0c1de054432f9d7a422ba9f0812b",
            "value": "100%"
          }
        },
        "95077d26e6e84621ba0b6b3b12c121e8": {
          "model_module": "@jupyter-widgets/controls",
          "model_name": "FloatProgressModel",
          "model_module_version": "1.5.0",
          "state": {
            "_dom_classes": [],
            "_model_module": "@jupyter-widgets/controls",
            "_model_module_version": "1.5.0",
            "_model_name": "FloatProgressModel",
            "_view_count": null,
            "_view_module": "@jupyter-widgets/controls",
            "_view_module_version": "1.5.0",
            "_view_name": "ProgressView",
            "bar_style": "success",
            "description": "",
            "description_tooltip": null,
            "layout": "IPY_MODEL_e517d4f9022b42c1aee15cc416411848",
            "max": 3,
            "min": 0,
            "orientation": "horizontal",
            "style": "IPY_MODEL_246ffd2644bf4fc29706baf3b542f824",
            "value": 3
          }
        },
        "882765fc4e114fcb9c4d89529f6ff3fd": {
          "model_module": "@jupyter-widgets/controls",
          "model_name": "HTMLModel",
          "model_module_version": "1.5.0",
          "state": {
            "_dom_classes": [],
            "_model_module": "@jupyter-widgets/controls",
            "_model_module_version": "1.5.0",
            "_model_name": "HTMLModel",
            "_view_count": null,
            "_view_module": "@jupyter-widgets/controls",
            "_view_module_version": "1.5.0",
            "_view_name": "HTMLView",
            "description": "",
            "description_tooltip": null,
            "layout": "IPY_MODEL_5ed2b8d0cd9747578a94fd52a44ae889",
            "placeholder": "​",
            "style": "IPY_MODEL_e324727fe59a45778d63348d0815146a",
            "value": " 3/3 [00:00&lt;00:00, 41.25it/s]"
          }
        },
        "284bee8f60454a03a5e16b48cf228988": {
          "model_module": "@jupyter-widgets/base",
          "model_name": "LayoutModel",
          "model_module_version": "1.2.0",
          "state": {
            "_model_module": "@jupyter-widgets/base",
            "_model_module_version": "1.2.0",
            "_model_name": "LayoutModel",
            "_view_count": null,
            "_view_module": "@jupyter-widgets/base",
            "_view_module_version": "1.2.0",
            "_view_name": "LayoutView",
            "align_content": null,
            "align_items": null,
            "align_self": null,
            "border": null,
            "bottom": null,
            "display": null,
            "flex": null,
            "flex_flow": null,
            "grid_area": null,
            "grid_auto_columns": null,
            "grid_auto_flow": null,
            "grid_auto_rows": null,
            "grid_column": null,
            "grid_gap": null,
            "grid_row": null,
            "grid_template_areas": null,
            "grid_template_columns": null,
            "grid_template_rows": null,
            "height": null,
            "justify_content": null,
            "justify_items": null,
            "left": null,
            "margin": null,
            "max_height": null,
            "max_width": null,
            "min_height": null,
            "min_width": null,
            "object_fit": null,
            "object_position": null,
            "order": null,
            "overflow": null,
            "overflow_x": null,
            "overflow_y": null,
            "padding": null,
            "right": null,
            "top": null,
            "visibility": null,
            "width": null
          }
        },
        "16b3a0d024db411daff2272c3af626d4": {
          "model_module": "@jupyter-widgets/base",
          "model_name": "LayoutModel",
          "model_module_version": "1.2.0",
          "state": {
            "_model_module": "@jupyter-widgets/base",
            "_model_module_version": "1.2.0",
            "_model_name": "LayoutModel",
            "_view_count": null,
            "_view_module": "@jupyter-widgets/base",
            "_view_module_version": "1.2.0",
            "_view_name": "LayoutView",
            "align_content": null,
            "align_items": null,
            "align_self": null,
            "border": null,
            "bottom": null,
            "display": null,
            "flex": null,
            "flex_flow": null,
            "grid_area": null,
            "grid_auto_columns": null,
            "grid_auto_flow": null,
            "grid_auto_rows": null,
            "grid_column": null,
            "grid_gap": null,
            "grid_row": null,
            "grid_template_areas": null,
            "grid_template_columns": null,
            "grid_template_rows": null,
            "height": null,
            "justify_content": null,
            "justify_items": null,
            "left": null,
            "margin": null,
            "max_height": null,
            "max_width": null,
            "min_height": null,
            "min_width": null,
            "object_fit": null,
            "object_position": null,
            "order": null,
            "overflow": null,
            "overflow_x": null,
            "overflow_y": null,
            "padding": null,
            "right": null,
            "top": null,
            "visibility": null,
            "width": null
          }
        },
        "38ec0c1de054432f9d7a422ba9f0812b": {
          "model_module": "@jupyter-widgets/controls",
          "model_name": "DescriptionStyleModel",
          "model_module_version": "1.5.0",
          "state": {
            "_model_module": "@jupyter-widgets/controls",
            "_model_module_version": "1.5.0",
            "_model_name": "DescriptionStyleModel",
            "_view_count": null,
            "_view_module": "@jupyter-widgets/base",
            "_view_module_version": "1.2.0",
            "_view_name": "StyleView",
            "description_width": ""
          }
        },
        "e517d4f9022b42c1aee15cc416411848": {
          "model_module": "@jupyter-widgets/base",
          "model_name": "LayoutModel",
          "model_module_version": "1.2.0",
          "state": {
            "_model_module": "@jupyter-widgets/base",
            "_model_module_version": "1.2.0",
            "_model_name": "LayoutModel",
            "_view_count": null,
            "_view_module": "@jupyter-widgets/base",
            "_view_module_version": "1.2.0",
            "_view_name": "LayoutView",
            "align_content": null,
            "align_items": null,
            "align_self": null,
            "border": null,
            "bottom": null,
            "display": null,
            "flex": null,
            "flex_flow": null,
            "grid_area": null,
            "grid_auto_columns": null,
            "grid_auto_flow": null,
            "grid_auto_rows": null,
            "grid_column": null,
            "grid_gap": null,
            "grid_row": null,
            "grid_template_areas": null,
            "grid_template_columns": null,
            "grid_template_rows": null,
            "height": null,
            "justify_content": null,
            "justify_items": null,
            "left": null,
            "margin": null,
            "max_height": null,
            "max_width": null,
            "min_height": null,
            "min_width": null,
            "object_fit": null,
            "object_position": null,
            "order": null,
            "overflow": null,
            "overflow_x": null,
            "overflow_y": null,
            "padding": null,
            "right": null,
            "top": null,
            "visibility": null,
            "width": null
          }
        },
        "246ffd2644bf4fc29706baf3b542f824": {
          "model_module": "@jupyter-widgets/controls",
          "model_name": "ProgressStyleModel",
          "model_module_version": "1.5.0",
          "state": {
            "_model_module": "@jupyter-widgets/controls",
            "_model_module_version": "1.5.0",
            "_model_name": "ProgressStyleModel",
            "_view_count": null,
            "_view_module": "@jupyter-widgets/base",
            "_view_module_version": "1.2.0",
            "_view_name": "StyleView",
            "bar_color": null,
            "description_width": ""
          }
        },
        "5ed2b8d0cd9747578a94fd52a44ae889": {
          "model_module": "@jupyter-widgets/base",
          "model_name": "LayoutModel",
          "model_module_version": "1.2.0",
          "state": {
            "_model_module": "@jupyter-widgets/base",
            "_model_module_version": "1.2.0",
            "_model_name": "LayoutModel",
            "_view_count": null,
            "_view_module": "@jupyter-widgets/base",
            "_view_module_version": "1.2.0",
            "_view_name": "LayoutView",
            "align_content": null,
            "align_items": null,
            "align_self": null,
            "border": null,
            "bottom": null,
            "display": null,
            "flex": null,
            "flex_flow": null,
            "grid_area": null,
            "grid_auto_columns": null,
            "grid_auto_flow": null,
            "grid_auto_rows": null,
            "grid_column": null,
            "grid_gap": null,
            "grid_row": null,
            "grid_template_areas": null,
            "grid_template_columns": null,
            "grid_template_rows": null,
            "height": null,
            "justify_content": null,
            "justify_items": null,
            "left": null,
            "margin": null,
            "max_height": null,
            "max_width": null,
            "min_height": null,
            "min_width": null,
            "object_fit": null,
            "object_position": null,
            "order": null,
            "overflow": null,
            "overflow_x": null,
            "overflow_y": null,
            "padding": null,
            "right": null,
            "top": null,
            "visibility": null,
            "width": null
          }
        },
        "e324727fe59a45778d63348d0815146a": {
          "model_module": "@jupyter-widgets/controls",
          "model_name": "DescriptionStyleModel",
          "model_module_version": "1.5.0",
          "state": {
            "_model_module": "@jupyter-widgets/controls",
            "_model_module_version": "1.5.0",
            "_model_name": "DescriptionStyleModel",
            "_view_count": null,
            "_view_module": "@jupyter-widgets/base",
            "_view_module_version": "1.2.0",
            "_view_name": "StyleView",
            "description_width": ""
          }
        },
        "8649a7e9af5a4eaab30a6517a68dd64d": {
          "model_module": "@jupyter-widgets/controls",
          "model_name": "HBoxModel",
          "model_module_version": "1.5.0",
          "state": {
            "_dom_classes": [],
            "_model_module": "@jupyter-widgets/controls",
            "_model_module_version": "1.5.0",
            "_model_name": "HBoxModel",
            "_view_count": null,
            "_view_module": "@jupyter-widgets/controls",
            "_view_module_version": "1.5.0",
            "_view_name": "HBoxView",
            "box_style": "",
            "children": [
              "IPY_MODEL_3817cc25d96b49cb92c5a25c230679b2",
              "IPY_MODEL_de6aee92549c4204824d2a0f3f5f8ef3",
              "IPY_MODEL_6027390257dd42289140dbc3b9765768"
            ],
            "layout": "IPY_MODEL_f48d4a5c88234c0dab7aaa976399d77f"
          }
        },
        "3817cc25d96b49cb92c5a25c230679b2": {
          "model_module": "@jupyter-widgets/controls",
          "model_name": "HTMLModel",
          "model_module_version": "1.5.0",
          "state": {
            "_dom_classes": [],
            "_model_module": "@jupyter-widgets/controls",
            "_model_module_version": "1.5.0",
            "_model_name": "HTMLModel",
            "_view_count": null,
            "_view_module": "@jupyter-widgets/controls",
            "_view_module_version": "1.5.0",
            "_view_name": "HTMLView",
            "description": "",
            "description_tooltip": null,
            "layout": "IPY_MODEL_51a5ea1f7888425e825f4716b16c5952",
            "placeholder": "​",
            "style": "IPY_MODEL_e2f83f2f39234d01aa7d596c69fe04f8",
            "value": "100%"
          }
        },
        "de6aee92549c4204824d2a0f3f5f8ef3": {
          "model_module": "@jupyter-widgets/controls",
          "model_name": "FloatProgressModel",
          "model_module_version": "1.5.0",
          "state": {
            "_dom_classes": [],
            "_model_module": "@jupyter-widgets/controls",
            "_model_module_version": "1.5.0",
            "_model_name": "FloatProgressModel",
            "_view_count": null,
            "_view_module": "@jupyter-widgets/controls",
            "_view_module_version": "1.5.0",
            "_view_name": "ProgressView",
            "bar_style": "success",
            "description": "",
            "description_tooltip": null,
            "layout": "IPY_MODEL_771d99aa4f5c4a59912123fbeb5d16c5",
            "max": 3,
            "min": 0,
            "orientation": "horizontal",
            "style": "IPY_MODEL_ac1823ebca9040eb8e5cc2cab0080314",
            "value": 3
          }
        },
        "6027390257dd42289140dbc3b9765768": {
          "model_module": "@jupyter-widgets/controls",
          "model_name": "HTMLModel",
          "model_module_version": "1.5.0",
          "state": {
            "_dom_classes": [],
            "_model_module": "@jupyter-widgets/controls",
            "_model_module_version": "1.5.0",
            "_model_name": "HTMLModel",
            "_view_count": null,
            "_view_module": "@jupyter-widgets/controls",
            "_view_module_version": "1.5.0",
            "_view_name": "HTMLView",
            "description": "",
            "description_tooltip": null,
            "layout": "IPY_MODEL_4c697f55a18c4fbab0718140f6eeac68",
            "placeholder": "​",
            "style": "IPY_MODEL_122e8293dc744c1e9408272d55bad69f",
            "value": " 3/3 [00:00&lt;00:00, 48.04it/s]"
          }
        },
        "f48d4a5c88234c0dab7aaa976399d77f": {
          "model_module": "@jupyter-widgets/base",
          "model_name": "LayoutModel",
          "model_module_version": "1.2.0",
          "state": {
            "_model_module": "@jupyter-widgets/base",
            "_model_module_version": "1.2.0",
            "_model_name": "LayoutModel",
            "_view_count": null,
            "_view_module": "@jupyter-widgets/base",
            "_view_module_version": "1.2.0",
            "_view_name": "LayoutView",
            "align_content": null,
            "align_items": null,
            "align_self": null,
            "border": null,
            "bottom": null,
            "display": null,
            "flex": null,
            "flex_flow": null,
            "grid_area": null,
            "grid_auto_columns": null,
            "grid_auto_flow": null,
            "grid_auto_rows": null,
            "grid_column": null,
            "grid_gap": null,
            "grid_row": null,
            "grid_template_areas": null,
            "grid_template_columns": null,
            "grid_template_rows": null,
            "height": null,
            "justify_content": null,
            "justify_items": null,
            "left": null,
            "margin": null,
            "max_height": null,
            "max_width": null,
            "min_height": null,
            "min_width": null,
            "object_fit": null,
            "object_position": null,
            "order": null,
            "overflow": null,
            "overflow_x": null,
            "overflow_y": null,
            "padding": null,
            "right": null,
            "top": null,
            "visibility": null,
            "width": null
          }
        },
        "51a5ea1f7888425e825f4716b16c5952": {
          "model_module": "@jupyter-widgets/base",
          "model_name": "LayoutModel",
          "model_module_version": "1.2.0",
          "state": {
            "_model_module": "@jupyter-widgets/base",
            "_model_module_version": "1.2.0",
            "_model_name": "LayoutModel",
            "_view_count": null,
            "_view_module": "@jupyter-widgets/base",
            "_view_module_version": "1.2.0",
            "_view_name": "LayoutView",
            "align_content": null,
            "align_items": null,
            "align_self": null,
            "border": null,
            "bottom": null,
            "display": null,
            "flex": null,
            "flex_flow": null,
            "grid_area": null,
            "grid_auto_columns": null,
            "grid_auto_flow": null,
            "grid_auto_rows": null,
            "grid_column": null,
            "grid_gap": null,
            "grid_row": null,
            "grid_template_areas": null,
            "grid_template_columns": null,
            "grid_template_rows": null,
            "height": null,
            "justify_content": null,
            "justify_items": null,
            "left": null,
            "margin": null,
            "max_height": null,
            "max_width": null,
            "min_height": null,
            "min_width": null,
            "object_fit": null,
            "object_position": null,
            "order": null,
            "overflow": null,
            "overflow_x": null,
            "overflow_y": null,
            "padding": null,
            "right": null,
            "top": null,
            "visibility": null,
            "width": null
          }
        },
        "e2f83f2f39234d01aa7d596c69fe04f8": {
          "model_module": "@jupyter-widgets/controls",
          "model_name": "DescriptionStyleModel",
          "model_module_version": "1.5.0",
          "state": {
            "_model_module": "@jupyter-widgets/controls",
            "_model_module_version": "1.5.0",
            "_model_name": "DescriptionStyleModel",
            "_view_count": null,
            "_view_module": "@jupyter-widgets/base",
            "_view_module_version": "1.2.0",
            "_view_name": "StyleView",
            "description_width": ""
          }
        },
        "771d99aa4f5c4a59912123fbeb5d16c5": {
          "model_module": "@jupyter-widgets/base",
          "model_name": "LayoutModel",
          "model_module_version": "1.2.0",
          "state": {
            "_model_module": "@jupyter-widgets/base",
            "_model_module_version": "1.2.0",
            "_model_name": "LayoutModel",
            "_view_count": null,
            "_view_module": "@jupyter-widgets/base",
            "_view_module_version": "1.2.0",
            "_view_name": "LayoutView",
            "align_content": null,
            "align_items": null,
            "align_self": null,
            "border": null,
            "bottom": null,
            "display": null,
            "flex": null,
            "flex_flow": null,
            "grid_area": null,
            "grid_auto_columns": null,
            "grid_auto_flow": null,
            "grid_auto_rows": null,
            "grid_column": null,
            "grid_gap": null,
            "grid_row": null,
            "grid_template_areas": null,
            "grid_template_columns": null,
            "grid_template_rows": null,
            "height": null,
            "justify_content": null,
            "justify_items": null,
            "left": null,
            "margin": null,
            "max_height": null,
            "max_width": null,
            "min_height": null,
            "min_width": null,
            "object_fit": null,
            "object_position": null,
            "order": null,
            "overflow": null,
            "overflow_x": null,
            "overflow_y": null,
            "padding": null,
            "right": null,
            "top": null,
            "visibility": null,
            "width": null
          }
        },
        "ac1823ebca9040eb8e5cc2cab0080314": {
          "model_module": "@jupyter-widgets/controls",
          "model_name": "ProgressStyleModel",
          "model_module_version": "1.5.0",
          "state": {
            "_model_module": "@jupyter-widgets/controls",
            "_model_module_version": "1.5.0",
            "_model_name": "ProgressStyleModel",
            "_view_count": null,
            "_view_module": "@jupyter-widgets/base",
            "_view_module_version": "1.2.0",
            "_view_name": "StyleView",
            "bar_color": null,
            "description_width": ""
          }
        },
        "4c697f55a18c4fbab0718140f6eeac68": {
          "model_module": "@jupyter-widgets/base",
          "model_name": "LayoutModel",
          "model_module_version": "1.2.0",
          "state": {
            "_model_module": "@jupyter-widgets/base",
            "_model_module_version": "1.2.0",
            "_model_name": "LayoutModel",
            "_view_count": null,
            "_view_module": "@jupyter-widgets/base",
            "_view_module_version": "1.2.0",
            "_view_name": "LayoutView",
            "align_content": null,
            "align_items": null,
            "align_self": null,
            "border": null,
            "bottom": null,
            "display": null,
            "flex": null,
            "flex_flow": null,
            "grid_area": null,
            "grid_auto_columns": null,
            "grid_auto_flow": null,
            "grid_auto_rows": null,
            "grid_column": null,
            "grid_gap": null,
            "grid_row": null,
            "grid_template_areas": null,
            "grid_template_columns": null,
            "grid_template_rows": null,
            "height": null,
            "justify_content": null,
            "justify_items": null,
            "left": null,
            "margin": null,
            "max_height": null,
            "max_width": null,
            "min_height": null,
            "min_width": null,
            "object_fit": null,
            "object_position": null,
            "order": null,
            "overflow": null,
            "overflow_x": null,
            "overflow_y": null,
            "padding": null,
            "right": null,
            "top": null,
            "visibility": null,
            "width": null
          }
        },
        "122e8293dc744c1e9408272d55bad69f": {
          "model_module": "@jupyter-widgets/controls",
          "model_name": "DescriptionStyleModel",
          "model_module_version": "1.5.0",
          "state": {
            "_model_module": "@jupyter-widgets/controls",
            "_model_module_version": "1.5.0",
            "_model_name": "DescriptionStyleModel",
            "_view_count": null,
            "_view_module": "@jupyter-widgets/base",
            "_view_module_version": "1.2.0",
            "_view_name": "StyleView",
            "description_width": ""
          }
        },
        "d4e5a858443a456dbafbcbc1db485bf4": {
          "model_module": "@jupyter-widgets/controls",
          "model_name": "HBoxModel",
          "model_module_version": "1.5.0",
          "state": {
            "_dom_classes": [],
            "_model_module": "@jupyter-widgets/controls",
            "_model_module_version": "1.5.0",
            "_model_name": "HBoxModel",
            "_view_count": null,
            "_view_module": "@jupyter-widgets/controls",
            "_view_module_version": "1.5.0",
            "_view_name": "HBoxView",
            "box_style": "",
            "children": [
              "IPY_MODEL_05040ad1c89944089b06c864dfc03ea7",
              "IPY_MODEL_44ff19c35f1e4977b32df84b59327ba3",
              "IPY_MODEL_8737d829a91a4f54ac2986835a43a5c2"
            ],
            "layout": "IPY_MODEL_5eb972a2c2614734a0978051a59f1642"
          }
        },
        "05040ad1c89944089b06c864dfc03ea7": {
          "model_module": "@jupyter-widgets/controls",
          "model_name": "HTMLModel",
          "model_module_version": "1.5.0",
          "state": {
            "_dom_classes": [],
            "_model_module": "@jupyter-widgets/controls",
            "_model_module_version": "1.5.0",
            "_model_name": "HTMLModel",
            "_view_count": null,
            "_view_module": "@jupyter-widgets/controls",
            "_view_module_version": "1.5.0",
            "_view_name": "HTMLView",
            "description": "",
            "description_tooltip": null,
            "layout": "IPY_MODEL_6efa63a7de704a668c556cf1a49cc7b7",
            "placeholder": "​",
            "style": "IPY_MODEL_78ceeb59c0f244f7938013cd7e5d1e1a",
            "value": "100%"
          }
        },
        "44ff19c35f1e4977b32df84b59327ba3": {
          "model_module": "@jupyter-widgets/controls",
          "model_name": "FloatProgressModel",
          "model_module_version": "1.5.0",
          "state": {
            "_dom_classes": [],
            "_model_module": "@jupyter-widgets/controls",
            "_model_module_version": "1.5.0",
            "_model_name": "FloatProgressModel",
            "_view_count": null,
            "_view_module": "@jupyter-widgets/controls",
            "_view_module_version": "1.5.0",
            "_view_name": "ProgressView",
            "bar_style": "success",
            "description": "",
            "description_tooltip": null,
            "layout": "IPY_MODEL_c5e18b0b4892436681e62a803745e2f8",
            "max": 3,
            "min": 0,
            "orientation": "horizontal",
            "style": "IPY_MODEL_79e98838a945455cbdb6e0c7ee7ac0c2",
            "value": 3
          }
        },
        "8737d829a91a4f54ac2986835a43a5c2": {
          "model_module": "@jupyter-widgets/controls",
          "model_name": "HTMLModel",
          "model_module_version": "1.5.0",
          "state": {
            "_dom_classes": [],
            "_model_module": "@jupyter-widgets/controls",
            "_model_module_version": "1.5.0",
            "_model_name": "HTMLModel",
            "_view_count": null,
            "_view_module": "@jupyter-widgets/controls",
            "_view_module_version": "1.5.0",
            "_view_name": "HTMLView",
            "description": "",
            "description_tooltip": null,
            "layout": "IPY_MODEL_26afc46811a04e9f934efdfd8dc0468e",
            "placeholder": "​",
            "style": "IPY_MODEL_bef4aead38144511a5f47737dc0ce325",
            "value": " 3/3 [00:00&lt;00:00, 55.76it/s]"
          }
        },
        "5eb972a2c2614734a0978051a59f1642": {
          "model_module": "@jupyter-widgets/base",
          "model_name": "LayoutModel",
          "model_module_version": "1.2.0",
          "state": {
            "_model_module": "@jupyter-widgets/base",
            "_model_module_version": "1.2.0",
            "_model_name": "LayoutModel",
            "_view_count": null,
            "_view_module": "@jupyter-widgets/base",
            "_view_module_version": "1.2.0",
            "_view_name": "LayoutView",
            "align_content": null,
            "align_items": null,
            "align_self": null,
            "border": null,
            "bottom": null,
            "display": null,
            "flex": null,
            "flex_flow": null,
            "grid_area": null,
            "grid_auto_columns": null,
            "grid_auto_flow": null,
            "grid_auto_rows": null,
            "grid_column": null,
            "grid_gap": null,
            "grid_row": null,
            "grid_template_areas": null,
            "grid_template_columns": null,
            "grid_template_rows": null,
            "height": null,
            "justify_content": null,
            "justify_items": null,
            "left": null,
            "margin": null,
            "max_height": null,
            "max_width": null,
            "min_height": null,
            "min_width": null,
            "object_fit": null,
            "object_position": null,
            "order": null,
            "overflow": null,
            "overflow_x": null,
            "overflow_y": null,
            "padding": null,
            "right": null,
            "top": null,
            "visibility": null,
            "width": null
          }
        },
        "6efa63a7de704a668c556cf1a49cc7b7": {
          "model_module": "@jupyter-widgets/base",
          "model_name": "LayoutModel",
          "model_module_version": "1.2.0",
          "state": {
            "_model_module": "@jupyter-widgets/base",
            "_model_module_version": "1.2.0",
            "_model_name": "LayoutModel",
            "_view_count": null,
            "_view_module": "@jupyter-widgets/base",
            "_view_module_version": "1.2.0",
            "_view_name": "LayoutView",
            "align_content": null,
            "align_items": null,
            "align_self": null,
            "border": null,
            "bottom": null,
            "display": null,
            "flex": null,
            "flex_flow": null,
            "grid_area": null,
            "grid_auto_columns": null,
            "grid_auto_flow": null,
            "grid_auto_rows": null,
            "grid_column": null,
            "grid_gap": null,
            "grid_row": null,
            "grid_template_areas": null,
            "grid_template_columns": null,
            "grid_template_rows": null,
            "height": null,
            "justify_content": null,
            "justify_items": null,
            "left": null,
            "margin": null,
            "max_height": null,
            "max_width": null,
            "min_height": null,
            "min_width": null,
            "object_fit": null,
            "object_position": null,
            "order": null,
            "overflow": null,
            "overflow_x": null,
            "overflow_y": null,
            "padding": null,
            "right": null,
            "top": null,
            "visibility": null,
            "width": null
          }
        },
        "78ceeb59c0f244f7938013cd7e5d1e1a": {
          "model_module": "@jupyter-widgets/controls",
          "model_name": "DescriptionStyleModel",
          "model_module_version": "1.5.0",
          "state": {
            "_model_module": "@jupyter-widgets/controls",
            "_model_module_version": "1.5.0",
            "_model_name": "DescriptionStyleModel",
            "_view_count": null,
            "_view_module": "@jupyter-widgets/base",
            "_view_module_version": "1.2.0",
            "_view_name": "StyleView",
            "description_width": ""
          }
        },
        "c5e18b0b4892436681e62a803745e2f8": {
          "model_module": "@jupyter-widgets/base",
          "model_name": "LayoutModel",
          "model_module_version": "1.2.0",
          "state": {
            "_model_module": "@jupyter-widgets/base",
            "_model_module_version": "1.2.0",
            "_model_name": "LayoutModel",
            "_view_count": null,
            "_view_module": "@jupyter-widgets/base",
            "_view_module_version": "1.2.0",
            "_view_name": "LayoutView",
            "align_content": null,
            "align_items": null,
            "align_self": null,
            "border": null,
            "bottom": null,
            "display": null,
            "flex": null,
            "flex_flow": null,
            "grid_area": null,
            "grid_auto_columns": null,
            "grid_auto_flow": null,
            "grid_auto_rows": null,
            "grid_column": null,
            "grid_gap": null,
            "grid_row": null,
            "grid_template_areas": null,
            "grid_template_columns": null,
            "grid_template_rows": null,
            "height": null,
            "justify_content": null,
            "justify_items": null,
            "left": null,
            "margin": null,
            "max_height": null,
            "max_width": null,
            "min_height": null,
            "min_width": null,
            "object_fit": null,
            "object_position": null,
            "order": null,
            "overflow": null,
            "overflow_x": null,
            "overflow_y": null,
            "padding": null,
            "right": null,
            "top": null,
            "visibility": null,
            "width": null
          }
        },
        "79e98838a945455cbdb6e0c7ee7ac0c2": {
          "model_module": "@jupyter-widgets/controls",
          "model_name": "ProgressStyleModel",
          "model_module_version": "1.5.0",
          "state": {
            "_model_module": "@jupyter-widgets/controls",
            "_model_module_version": "1.5.0",
            "_model_name": "ProgressStyleModel",
            "_view_count": null,
            "_view_module": "@jupyter-widgets/base",
            "_view_module_version": "1.2.0",
            "_view_name": "StyleView",
            "bar_color": null,
            "description_width": ""
          }
        },
        "26afc46811a04e9f934efdfd8dc0468e": {
          "model_module": "@jupyter-widgets/base",
          "model_name": "LayoutModel",
          "model_module_version": "1.2.0",
          "state": {
            "_model_module": "@jupyter-widgets/base",
            "_model_module_version": "1.2.0",
            "_model_name": "LayoutModel",
            "_view_count": null,
            "_view_module": "@jupyter-widgets/base",
            "_view_module_version": "1.2.0",
            "_view_name": "LayoutView",
            "align_content": null,
            "align_items": null,
            "align_self": null,
            "border": null,
            "bottom": null,
            "display": null,
            "flex": null,
            "flex_flow": null,
            "grid_area": null,
            "grid_auto_columns": null,
            "grid_auto_flow": null,
            "grid_auto_rows": null,
            "grid_column": null,
            "grid_gap": null,
            "grid_row": null,
            "grid_template_areas": null,
            "grid_template_columns": null,
            "grid_template_rows": null,
            "height": null,
            "justify_content": null,
            "justify_items": null,
            "left": null,
            "margin": null,
            "max_height": null,
            "max_width": null,
            "min_height": null,
            "min_width": null,
            "object_fit": null,
            "object_position": null,
            "order": null,
            "overflow": null,
            "overflow_x": null,
            "overflow_y": null,
            "padding": null,
            "right": null,
            "top": null,
            "visibility": null,
            "width": null
          }
        },
        "bef4aead38144511a5f47737dc0ce325": {
          "model_module": "@jupyter-widgets/controls",
          "model_name": "DescriptionStyleModel",
          "model_module_version": "1.5.0",
          "state": {
            "_model_module": "@jupyter-widgets/controls",
            "_model_module_version": "1.5.0",
            "_model_name": "DescriptionStyleModel",
            "_view_count": null,
            "_view_module": "@jupyter-widgets/base",
            "_view_module_version": "1.2.0",
            "_view_name": "StyleView",
            "description_width": ""
          }
        },
        "ebbf84d009114d808e66e1f2e7e11322": {
          "model_module": "@jupyter-widgets/controls",
          "model_name": "HBoxModel",
          "model_module_version": "1.5.0",
          "state": {
            "_dom_classes": [],
            "_model_module": "@jupyter-widgets/controls",
            "_model_module_version": "1.5.0",
            "_model_name": "HBoxModel",
            "_view_count": null,
            "_view_module": "@jupyter-widgets/controls",
            "_view_module_version": "1.5.0",
            "_view_name": "HBoxView",
            "box_style": "",
            "children": [
              "IPY_MODEL_414aaa23840940ce889d3519dd034abb",
              "IPY_MODEL_8a9b35c3648a42d1ac5dd4ea78f633f3",
              "IPY_MODEL_c5223e11edca49e28c4df23642ce10b3"
            ],
            "layout": "IPY_MODEL_90779f8914774c068ea1c6f28832a6e9"
          }
        },
        "414aaa23840940ce889d3519dd034abb": {
          "model_module": "@jupyter-widgets/controls",
          "model_name": "HTMLModel",
          "model_module_version": "1.5.0",
          "state": {
            "_dom_classes": [],
            "_model_module": "@jupyter-widgets/controls",
            "_model_module_version": "1.5.0",
            "_model_name": "HTMLModel",
            "_view_count": null,
            "_view_module": "@jupyter-widgets/controls",
            "_view_module_version": "1.5.0",
            "_view_name": "HTMLView",
            "description": "",
            "description_tooltip": null,
            "layout": "IPY_MODEL_7607306925ca4691b893a15bfb2609f5",
            "placeholder": "​",
            "style": "IPY_MODEL_655b002bc6b2439cb8397d59857510d9",
            "value": "100%"
          }
        },
        "8a9b35c3648a42d1ac5dd4ea78f633f3": {
          "model_module": "@jupyter-widgets/controls",
          "model_name": "FloatProgressModel",
          "model_module_version": "1.5.0",
          "state": {
            "_dom_classes": [],
            "_model_module": "@jupyter-widgets/controls",
            "_model_module_version": "1.5.0",
            "_model_name": "FloatProgressModel",
            "_view_count": null,
            "_view_module": "@jupyter-widgets/controls",
            "_view_module_version": "1.5.0",
            "_view_name": "ProgressView",
            "bar_style": "success",
            "description": "",
            "description_tooltip": null,
            "layout": "IPY_MODEL_7beb11c2260949eabac54dc4987c2f2e",
            "max": 3,
            "min": 0,
            "orientation": "horizontal",
            "style": "IPY_MODEL_473d4dcec0b4417595867e2f8816f6e6",
            "value": 3
          }
        },
        "c5223e11edca49e28c4df23642ce10b3": {
          "model_module": "@jupyter-widgets/controls",
          "model_name": "HTMLModel",
          "model_module_version": "1.5.0",
          "state": {
            "_dom_classes": [],
            "_model_module": "@jupyter-widgets/controls",
            "_model_module_version": "1.5.0",
            "_model_name": "HTMLModel",
            "_view_count": null,
            "_view_module": "@jupyter-widgets/controls",
            "_view_module_version": "1.5.0",
            "_view_name": "HTMLView",
            "description": "",
            "description_tooltip": null,
            "layout": "IPY_MODEL_5b4af95620b0424aa9898fef1bf505c5",
            "placeholder": "​",
            "style": "IPY_MODEL_e3dc04e5fa4247288b6cc210063fc8aa",
            "value": " 3/3 [00:00&lt;00:00, 58.39it/s]"
          }
        },
        "90779f8914774c068ea1c6f28832a6e9": {
          "model_module": "@jupyter-widgets/base",
          "model_name": "LayoutModel",
          "model_module_version": "1.2.0",
          "state": {
            "_model_module": "@jupyter-widgets/base",
            "_model_module_version": "1.2.0",
            "_model_name": "LayoutModel",
            "_view_count": null,
            "_view_module": "@jupyter-widgets/base",
            "_view_module_version": "1.2.0",
            "_view_name": "LayoutView",
            "align_content": null,
            "align_items": null,
            "align_self": null,
            "border": null,
            "bottom": null,
            "display": null,
            "flex": null,
            "flex_flow": null,
            "grid_area": null,
            "grid_auto_columns": null,
            "grid_auto_flow": null,
            "grid_auto_rows": null,
            "grid_column": null,
            "grid_gap": null,
            "grid_row": null,
            "grid_template_areas": null,
            "grid_template_columns": null,
            "grid_template_rows": null,
            "height": null,
            "justify_content": null,
            "justify_items": null,
            "left": null,
            "margin": null,
            "max_height": null,
            "max_width": null,
            "min_height": null,
            "min_width": null,
            "object_fit": null,
            "object_position": null,
            "order": null,
            "overflow": null,
            "overflow_x": null,
            "overflow_y": null,
            "padding": null,
            "right": null,
            "top": null,
            "visibility": null,
            "width": null
          }
        },
        "7607306925ca4691b893a15bfb2609f5": {
          "model_module": "@jupyter-widgets/base",
          "model_name": "LayoutModel",
          "model_module_version": "1.2.0",
          "state": {
            "_model_module": "@jupyter-widgets/base",
            "_model_module_version": "1.2.0",
            "_model_name": "LayoutModel",
            "_view_count": null,
            "_view_module": "@jupyter-widgets/base",
            "_view_module_version": "1.2.0",
            "_view_name": "LayoutView",
            "align_content": null,
            "align_items": null,
            "align_self": null,
            "border": null,
            "bottom": null,
            "display": null,
            "flex": null,
            "flex_flow": null,
            "grid_area": null,
            "grid_auto_columns": null,
            "grid_auto_flow": null,
            "grid_auto_rows": null,
            "grid_column": null,
            "grid_gap": null,
            "grid_row": null,
            "grid_template_areas": null,
            "grid_template_columns": null,
            "grid_template_rows": null,
            "height": null,
            "justify_content": null,
            "justify_items": null,
            "left": null,
            "margin": null,
            "max_height": null,
            "max_width": null,
            "min_height": null,
            "min_width": null,
            "object_fit": null,
            "object_position": null,
            "order": null,
            "overflow": null,
            "overflow_x": null,
            "overflow_y": null,
            "padding": null,
            "right": null,
            "top": null,
            "visibility": null,
            "width": null
          }
        },
        "655b002bc6b2439cb8397d59857510d9": {
          "model_module": "@jupyter-widgets/controls",
          "model_name": "DescriptionStyleModel",
          "model_module_version": "1.5.0",
          "state": {
            "_model_module": "@jupyter-widgets/controls",
            "_model_module_version": "1.5.0",
            "_model_name": "DescriptionStyleModel",
            "_view_count": null,
            "_view_module": "@jupyter-widgets/base",
            "_view_module_version": "1.2.0",
            "_view_name": "StyleView",
            "description_width": ""
          }
        },
        "7beb11c2260949eabac54dc4987c2f2e": {
          "model_module": "@jupyter-widgets/base",
          "model_name": "LayoutModel",
          "model_module_version": "1.2.0",
          "state": {
            "_model_module": "@jupyter-widgets/base",
            "_model_module_version": "1.2.0",
            "_model_name": "LayoutModel",
            "_view_count": null,
            "_view_module": "@jupyter-widgets/base",
            "_view_module_version": "1.2.0",
            "_view_name": "LayoutView",
            "align_content": null,
            "align_items": null,
            "align_self": null,
            "border": null,
            "bottom": null,
            "display": null,
            "flex": null,
            "flex_flow": null,
            "grid_area": null,
            "grid_auto_columns": null,
            "grid_auto_flow": null,
            "grid_auto_rows": null,
            "grid_column": null,
            "grid_gap": null,
            "grid_row": null,
            "grid_template_areas": null,
            "grid_template_columns": null,
            "grid_template_rows": null,
            "height": null,
            "justify_content": null,
            "justify_items": null,
            "left": null,
            "margin": null,
            "max_height": null,
            "max_width": null,
            "min_height": null,
            "min_width": null,
            "object_fit": null,
            "object_position": null,
            "order": null,
            "overflow": null,
            "overflow_x": null,
            "overflow_y": null,
            "padding": null,
            "right": null,
            "top": null,
            "visibility": null,
            "width": null
          }
        },
        "473d4dcec0b4417595867e2f8816f6e6": {
          "model_module": "@jupyter-widgets/controls",
          "model_name": "ProgressStyleModel",
          "model_module_version": "1.5.0",
          "state": {
            "_model_module": "@jupyter-widgets/controls",
            "_model_module_version": "1.5.0",
            "_model_name": "ProgressStyleModel",
            "_view_count": null,
            "_view_module": "@jupyter-widgets/base",
            "_view_module_version": "1.2.0",
            "_view_name": "StyleView",
            "bar_color": null,
            "description_width": ""
          }
        },
        "5b4af95620b0424aa9898fef1bf505c5": {
          "model_module": "@jupyter-widgets/base",
          "model_name": "LayoutModel",
          "model_module_version": "1.2.0",
          "state": {
            "_model_module": "@jupyter-widgets/base",
            "_model_module_version": "1.2.0",
            "_model_name": "LayoutModel",
            "_view_count": null,
            "_view_module": "@jupyter-widgets/base",
            "_view_module_version": "1.2.0",
            "_view_name": "LayoutView",
            "align_content": null,
            "align_items": null,
            "align_self": null,
            "border": null,
            "bottom": null,
            "display": null,
            "flex": null,
            "flex_flow": null,
            "grid_area": null,
            "grid_auto_columns": null,
            "grid_auto_flow": null,
            "grid_auto_rows": null,
            "grid_column": null,
            "grid_gap": null,
            "grid_row": null,
            "grid_template_areas": null,
            "grid_template_columns": null,
            "grid_template_rows": null,
            "height": null,
            "justify_content": null,
            "justify_items": null,
            "left": null,
            "margin": null,
            "max_height": null,
            "max_width": null,
            "min_height": null,
            "min_width": null,
            "object_fit": null,
            "object_position": null,
            "order": null,
            "overflow": null,
            "overflow_x": null,
            "overflow_y": null,
            "padding": null,
            "right": null,
            "top": null,
            "visibility": null,
            "width": null
          }
        },
        "e3dc04e5fa4247288b6cc210063fc8aa": {
          "model_module": "@jupyter-widgets/controls",
          "model_name": "DescriptionStyleModel",
          "model_module_version": "1.5.0",
          "state": {
            "_model_module": "@jupyter-widgets/controls",
            "_model_module_version": "1.5.0",
            "_model_name": "DescriptionStyleModel",
            "_view_count": null,
            "_view_module": "@jupyter-widgets/base",
            "_view_module_version": "1.2.0",
            "_view_name": "StyleView",
            "description_width": ""
          }
        },
        "d4e0aaa73e414bb6a1aec8fcb8eb7306": {
          "model_module": "@jupyter-widgets/controls",
          "model_name": "HBoxModel",
          "model_module_version": "1.5.0",
          "state": {
            "_dom_classes": [],
            "_model_module": "@jupyter-widgets/controls",
            "_model_module_version": "1.5.0",
            "_model_name": "HBoxModel",
            "_view_count": null,
            "_view_module": "@jupyter-widgets/controls",
            "_view_module_version": "1.5.0",
            "_view_name": "HBoxView",
            "box_style": "",
            "children": [
              "IPY_MODEL_6312b9aefd494c1f88d7f52aa3ea81a9",
              "IPY_MODEL_5243e6c86a5e4900ac53067b335fe03e",
              "IPY_MODEL_f84caccc4ea94ae88853ec11844a776e"
            ],
            "layout": "IPY_MODEL_0ee1204b58b345eaad7e1306e8d07c34"
          }
        },
        "6312b9aefd494c1f88d7f52aa3ea81a9": {
          "model_module": "@jupyter-widgets/controls",
          "model_name": "HTMLModel",
          "model_module_version": "1.5.0",
          "state": {
            "_dom_classes": [],
            "_model_module": "@jupyter-widgets/controls",
            "_model_module_version": "1.5.0",
            "_model_name": "HTMLModel",
            "_view_count": null,
            "_view_module": "@jupyter-widgets/controls",
            "_view_module_version": "1.5.0",
            "_view_name": "HTMLView",
            "description": "",
            "description_tooltip": null,
            "layout": "IPY_MODEL_036b489787874d398f2c21eefae7b14b",
            "placeholder": "​",
            "style": "IPY_MODEL_0268b62393d54d32b1098b723eda50e3",
            "value": "100%"
          }
        },
        "5243e6c86a5e4900ac53067b335fe03e": {
          "model_module": "@jupyter-widgets/controls",
          "model_name": "FloatProgressModel",
          "model_module_version": "1.5.0",
          "state": {
            "_dom_classes": [],
            "_model_module": "@jupyter-widgets/controls",
            "_model_module_version": "1.5.0",
            "_model_name": "FloatProgressModel",
            "_view_count": null,
            "_view_module": "@jupyter-widgets/controls",
            "_view_module_version": "1.5.0",
            "_view_name": "ProgressView",
            "bar_style": "success",
            "description": "",
            "description_tooltip": null,
            "layout": "IPY_MODEL_dc2e58d95e2942b88cb0f377aec42e11",
            "max": 2,
            "min": 0,
            "orientation": "horizontal",
            "style": "IPY_MODEL_ab1886b4e30b4414b7de42b6101adc49",
            "value": 2
          }
        },
        "f84caccc4ea94ae88853ec11844a776e": {
          "model_module": "@jupyter-widgets/controls",
          "model_name": "HTMLModel",
          "model_module_version": "1.5.0",
          "state": {
            "_dom_classes": [],
            "_model_module": "@jupyter-widgets/controls",
            "_model_module_version": "1.5.0",
            "_model_name": "HTMLModel",
            "_view_count": null,
            "_view_module": "@jupyter-widgets/controls",
            "_view_module_version": "1.5.0",
            "_view_name": "HTMLView",
            "description": "",
            "description_tooltip": null,
            "layout": "IPY_MODEL_8b7c0a3f431e4fb9b32055d239110870",
            "placeholder": "​",
            "style": "IPY_MODEL_dba6ea2e3aa84cd586b374831ee16ca5",
            "value": " 2/2 [00:00&lt;00:00,  4.21ba/s]"
          }
        },
        "0ee1204b58b345eaad7e1306e8d07c34": {
          "model_module": "@jupyter-widgets/base",
          "model_name": "LayoutModel",
          "model_module_version": "1.2.0",
          "state": {
            "_model_module": "@jupyter-widgets/base",
            "_model_module_version": "1.2.0",
            "_model_name": "LayoutModel",
            "_view_count": null,
            "_view_module": "@jupyter-widgets/base",
            "_view_module_version": "1.2.0",
            "_view_name": "LayoutView",
            "align_content": null,
            "align_items": null,
            "align_self": null,
            "border": null,
            "bottom": null,
            "display": null,
            "flex": null,
            "flex_flow": null,
            "grid_area": null,
            "grid_auto_columns": null,
            "grid_auto_flow": null,
            "grid_auto_rows": null,
            "grid_column": null,
            "grid_gap": null,
            "grid_row": null,
            "grid_template_areas": null,
            "grid_template_columns": null,
            "grid_template_rows": null,
            "height": null,
            "justify_content": null,
            "justify_items": null,
            "left": null,
            "margin": null,
            "max_height": null,
            "max_width": null,
            "min_height": null,
            "min_width": null,
            "object_fit": null,
            "object_position": null,
            "order": null,
            "overflow": null,
            "overflow_x": null,
            "overflow_y": null,
            "padding": null,
            "right": null,
            "top": null,
            "visibility": null,
            "width": null
          }
        },
        "036b489787874d398f2c21eefae7b14b": {
          "model_module": "@jupyter-widgets/base",
          "model_name": "LayoutModel",
          "model_module_version": "1.2.0",
          "state": {
            "_model_module": "@jupyter-widgets/base",
            "_model_module_version": "1.2.0",
            "_model_name": "LayoutModel",
            "_view_count": null,
            "_view_module": "@jupyter-widgets/base",
            "_view_module_version": "1.2.0",
            "_view_name": "LayoutView",
            "align_content": null,
            "align_items": null,
            "align_self": null,
            "border": null,
            "bottom": null,
            "display": null,
            "flex": null,
            "flex_flow": null,
            "grid_area": null,
            "grid_auto_columns": null,
            "grid_auto_flow": null,
            "grid_auto_rows": null,
            "grid_column": null,
            "grid_gap": null,
            "grid_row": null,
            "grid_template_areas": null,
            "grid_template_columns": null,
            "grid_template_rows": null,
            "height": null,
            "justify_content": null,
            "justify_items": null,
            "left": null,
            "margin": null,
            "max_height": null,
            "max_width": null,
            "min_height": null,
            "min_width": null,
            "object_fit": null,
            "object_position": null,
            "order": null,
            "overflow": null,
            "overflow_x": null,
            "overflow_y": null,
            "padding": null,
            "right": null,
            "top": null,
            "visibility": null,
            "width": null
          }
        },
        "0268b62393d54d32b1098b723eda50e3": {
          "model_module": "@jupyter-widgets/controls",
          "model_name": "DescriptionStyleModel",
          "model_module_version": "1.5.0",
          "state": {
            "_model_module": "@jupyter-widgets/controls",
            "_model_module_version": "1.5.0",
            "_model_name": "DescriptionStyleModel",
            "_view_count": null,
            "_view_module": "@jupyter-widgets/base",
            "_view_module_version": "1.2.0",
            "_view_name": "StyleView",
            "description_width": ""
          }
        },
        "dc2e58d95e2942b88cb0f377aec42e11": {
          "model_module": "@jupyter-widgets/base",
          "model_name": "LayoutModel",
          "model_module_version": "1.2.0",
          "state": {
            "_model_module": "@jupyter-widgets/base",
            "_model_module_version": "1.2.0",
            "_model_name": "LayoutModel",
            "_view_count": null,
            "_view_module": "@jupyter-widgets/base",
            "_view_module_version": "1.2.0",
            "_view_name": "LayoutView",
            "align_content": null,
            "align_items": null,
            "align_self": null,
            "border": null,
            "bottom": null,
            "display": null,
            "flex": null,
            "flex_flow": null,
            "grid_area": null,
            "grid_auto_columns": null,
            "grid_auto_flow": null,
            "grid_auto_rows": null,
            "grid_column": null,
            "grid_gap": null,
            "grid_row": null,
            "grid_template_areas": null,
            "grid_template_columns": null,
            "grid_template_rows": null,
            "height": null,
            "justify_content": null,
            "justify_items": null,
            "left": null,
            "margin": null,
            "max_height": null,
            "max_width": null,
            "min_height": null,
            "min_width": null,
            "object_fit": null,
            "object_position": null,
            "order": null,
            "overflow": null,
            "overflow_x": null,
            "overflow_y": null,
            "padding": null,
            "right": null,
            "top": null,
            "visibility": null,
            "width": null
          }
        },
        "ab1886b4e30b4414b7de42b6101adc49": {
          "model_module": "@jupyter-widgets/controls",
          "model_name": "ProgressStyleModel",
          "model_module_version": "1.5.0",
          "state": {
            "_model_module": "@jupyter-widgets/controls",
            "_model_module_version": "1.5.0",
            "_model_name": "ProgressStyleModel",
            "_view_count": null,
            "_view_module": "@jupyter-widgets/base",
            "_view_module_version": "1.2.0",
            "_view_name": "StyleView",
            "bar_color": null,
            "description_width": ""
          }
        },
        "8b7c0a3f431e4fb9b32055d239110870": {
          "model_module": "@jupyter-widgets/base",
          "model_name": "LayoutModel",
          "model_module_version": "1.2.0",
          "state": {
            "_model_module": "@jupyter-widgets/base",
            "_model_module_version": "1.2.0",
            "_model_name": "LayoutModel",
            "_view_count": null,
            "_view_module": "@jupyter-widgets/base",
            "_view_module_version": "1.2.0",
            "_view_name": "LayoutView",
            "align_content": null,
            "align_items": null,
            "align_self": null,
            "border": null,
            "bottom": null,
            "display": null,
            "flex": null,
            "flex_flow": null,
            "grid_area": null,
            "grid_auto_columns": null,
            "grid_auto_flow": null,
            "grid_auto_rows": null,
            "grid_column": null,
            "grid_gap": null,
            "grid_row": null,
            "grid_template_areas": null,
            "grid_template_columns": null,
            "grid_template_rows": null,
            "height": null,
            "justify_content": null,
            "justify_items": null,
            "left": null,
            "margin": null,
            "max_height": null,
            "max_width": null,
            "min_height": null,
            "min_width": null,
            "object_fit": null,
            "object_position": null,
            "order": null,
            "overflow": null,
            "overflow_x": null,
            "overflow_y": null,
            "padding": null,
            "right": null,
            "top": null,
            "visibility": null,
            "width": null
          }
        },
        "dba6ea2e3aa84cd586b374831ee16ca5": {
          "model_module": "@jupyter-widgets/controls",
          "model_name": "DescriptionStyleModel",
          "model_module_version": "1.5.0",
          "state": {
            "_model_module": "@jupyter-widgets/controls",
            "_model_module_version": "1.5.0",
            "_model_name": "DescriptionStyleModel",
            "_view_count": null,
            "_view_module": "@jupyter-widgets/base",
            "_view_module_version": "1.2.0",
            "_view_name": "StyleView",
            "description_width": ""
          }
        }
      }
    }
  },
  "cells": [
    {
      "cell_type": "markdown",
      "metadata": {
        "id": "view-in-github",
        "colab_type": "text"
      },
      "source": [
        "<a href=\"https://colab.research.google.com/github/tilaboy/nlp_transformer_tutorial/blob/main/learning_notes/ch4.ipynb\" target=\"_parent\"><img src=\"https://colab.research.google.com/assets/colab-badge.svg\" alt=\"Open In Colab\"/></a>"
      ]
    },
    {
      "cell_type": "code",
      "source": [
        "!pip install datasets --quiet\n",
        "!pip install transformers --quiet\n",
        "!pip install tensorflow --quiet\n",
        "!pip install pandas --quiet\n",
        "!pip install numpy --quiet\n",
        "!pip install seqeval --quiet\n",
        "!pip install torch --quiet\n",
        "!pip install sklearn --quiet\n",
        "!pip install matplotlib --quiet"
      ],
      "metadata": {
        "id": "O0_Nbi_a3gK_"
      },
      "execution_count": 1,
      "outputs": []
    },
    {
      "cell_type": "code",
      "execution_count": 2,
      "metadata": {
        "id": "9WvtQRjw9eZ_"
      },
      "outputs": [],
      "source": [
        "from datasets import load_dataset, DatasetDict\n",
        "from datasets import get_dataset_config_names, concatenate_datasets\n",
        "from collections import defaultdict, Counter\n",
        "import pandas as pd\n",
        "import numpy as np\n",
        "import torch.nn as nn\n",
        "from torch.nn.functional import cross_entropy\n",
        "import torch\n",
        "from transformers import AutoTokenizer, AutoConfig, TrainingArguments\n",
        "from transformers import XLMRobertaConfig, Trainer\n",
        "from transformers import DataCollatorForTokenClassification\n",
        "from transformers.modeling_outputs import TokenClassifierOutput \n",
        "from transformers.models.roberta.modeling_roberta import RobertaModel \n",
        "from transformers.models.roberta.modeling_roberta import RobertaPreTrainedModel\n",
        "from seqeval.metrics import classification_report, f1_score\n",
        "from sklearn.metrics import ConfusionMatrixDisplay, confusion_matrix\n",
        "import matplotlib.pyplot as plt"
      ]
    },
    {
      "cell_type": "code",
      "source": [
        "xtreme_subsets = get_dataset_config_names(\"xtreme\")\n",
        "print(f\"XTREME has {len(xtreme_subsets)} configurations\") \n",
        "panx_subsets = [s for s in xtreme_subsets if s.startswith(\"PAN\")]\n",
        "print(f'nr of languages in PAN dataset: {len(panx_subsets)}')\n",
        "print([set_name[-2:] for set_name in panx_subsets])"
      ],
      "metadata": {
        "id": "JN5VDOaoG9TA",
        "colab": {
          "base_uri": "https://localhost:8080/"
        },
        "outputId": "4fae2284-ef6c-4bf1-d188-a330367bee09"
      },
      "execution_count": 3,
      "outputs": [
        {
          "output_type": "stream",
          "name": "stdout",
          "text": [
            "XTREME has 183 configurations\n",
            "nr of languages in PAN dataset: 40\n",
            "['af', 'ar', 'bg', 'bn', 'de', 'el', 'en', 'es', 'et', 'eu', 'fa', 'fi', 'fr', 'he', 'hi', 'hu', 'id', 'it', 'ja', 'jv', 'ka', 'kk', 'ko', 'ml', 'mr', 'ms', 'my', 'nl', 'pt', 'ru', 'sw', 'ta', 'te', 'th', 'tl', 'tr', 'ur', 'vi', 'yo', 'zh']\n"
          ]
        }
      ]
    },
    {
      "cell_type": "code",
      "source": [
        "langs = [\"de\", \"fr\", \"it\", \"en\"] \n",
        "fracs = [0.629, 0.229, 0.084, 0.059] \n",
        "# Return a DatasetDict if a key doesn't exist \n",
        "panx_ch = defaultdict(DatasetDict) \n",
        "for lang, frac in zip(langs, fracs): \n",
        "    # Load monolingual corpus \n",
        "    ds = load_dataset(\"xtreme\", name=f\"PAN-X.{lang}\") \n",
        "    # Shuffle and downsample each split according to spoken proportion \n",
        "    for split in ds:\n",
        "        nr_to_select = int(frac * ds[split].num_rows / 4)\n",
        "        print(f'{lang}-{split}: {nr_to_select} out of {ds[split].num_rows}')\n",
        "        panx_ch[lang][split] = ( ds[split].shuffle(seed=0).select(range(nr_to_select)))\n"
      ],
      "metadata": {
        "id": "bmCj-dx2_Tiy",
        "colab": {
          "base_uri": "https://localhost:8080/",
          "height": 665,
          "referenced_widgets": [
            "557f863a29f04e978f874524c15730bc",
            "66a3b9d85eb7420fab03cc96d273b86b",
            "95077d26e6e84621ba0b6b3b12c121e8",
            "882765fc4e114fcb9c4d89529f6ff3fd",
            "284bee8f60454a03a5e16b48cf228988",
            "16b3a0d024db411daff2272c3af626d4",
            "38ec0c1de054432f9d7a422ba9f0812b",
            "e517d4f9022b42c1aee15cc416411848",
            "246ffd2644bf4fc29706baf3b542f824",
            "5ed2b8d0cd9747578a94fd52a44ae889",
            "e324727fe59a45778d63348d0815146a",
            "8649a7e9af5a4eaab30a6517a68dd64d",
            "3817cc25d96b49cb92c5a25c230679b2",
            "de6aee92549c4204824d2a0f3f5f8ef3",
            "6027390257dd42289140dbc3b9765768",
            "f48d4a5c88234c0dab7aaa976399d77f",
            "51a5ea1f7888425e825f4716b16c5952",
            "e2f83f2f39234d01aa7d596c69fe04f8",
            "771d99aa4f5c4a59912123fbeb5d16c5",
            "ac1823ebca9040eb8e5cc2cab0080314",
            "4c697f55a18c4fbab0718140f6eeac68",
            "122e8293dc744c1e9408272d55bad69f",
            "d4e5a858443a456dbafbcbc1db485bf4",
            "05040ad1c89944089b06c864dfc03ea7",
            "44ff19c35f1e4977b32df84b59327ba3",
            "8737d829a91a4f54ac2986835a43a5c2",
            "5eb972a2c2614734a0978051a59f1642",
            "6efa63a7de704a668c556cf1a49cc7b7",
            "78ceeb59c0f244f7938013cd7e5d1e1a",
            "c5e18b0b4892436681e62a803745e2f8",
            "79e98838a945455cbdb6e0c7ee7ac0c2",
            "26afc46811a04e9f934efdfd8dc0468e",
            "bef4aead38144511a5f47737dc0ce325",
            "ebbf84d009114d808e66e1f2e7e11322",
            "414aaa23840940ce889d3519dd034abb",
            "8a9b35c3648a42d1ac5dd4ea78f633f3",
            "c5223e11edca49e28c4df23642ce10b3",
            "90779f8914774c068ea1c6f28832a6e9",
            "7607306925ca4691b893a15bfb2609f5",
            "655b002bc6b2439cb8397d59857510d9",
            "7beb11c2260949eabac54dc4987c2f2e",
            "473d4dcec0b4417595867e2f8816f6e6",
            "5b4af95620b0424aa9898fef1bf505c5",
            "e3dc04e5fa4247288b6cc210063fc8aa"
          ]
        },
        "outputId": "c4f5bbf4-2074-42a7-f403-b3e8b5fbbfbb"
      },
      "execution_count": 4,
      "outputs": [
        {
          "output_type": "stream",
          "name": "stderr",
          "text": [
            "Reusing dataset xtreme (/root/.cache/huggingface/datasets/xtreme/PAN-X.de/1.0.0/349258adc25bb45e47de193222f95e68a44f7a7ab53c4283b3f007208a11bf7e)\n"
          ]
        },
        {
          "output_type": "display_data",
          "data": {
            "text/plain": [
              "  0%|          | 0/3 [00:00<?, ?it/s]"
            ],
            "application/vnd.jupyter.widget-view+json": {
              "version_major": 2,
              "version_minor": 0,
              "model_id": "557f863a29f04e978f874524c15730bc"
            }
          },
          "metadata": {}
        },
        {
          "output_type": "stream",
          "name": "stderr",
          "text": [
            "Loading cached shuffled indices for dataset at /root/.cache/huggingface/datasets/xtreme/PAN-X.de/1.0.0/349258adc25bb45e47de193222f95e68a44f7a7ab53c4283b3f007208a11bf7e/cache-895dfb6c4273b2e5.arrow\n",
            "Loading cached shuffled indices for dataset at /root/.cache/huggingface/datasets/xtreme/PAN-X.de/1.0.0/349258adc25bb45e47de193222f95e68a44f7a7ab53c4283b3f007208a11bf7e/cache-441068b3ea7cbef3.arrow\n",
            "Loading cached shuffled indices for dataset at /root/.cache/huggingface/datasets/xtreme/PAN-X.de/1.0.0/349258adc25bb45e47de193222f95e68a44f7a7ab53c4283b3f007208a11bf7e/cache-1ec023bbd4560444.arrow\n"
          ]
        },
        {
          "output_type": "stream",
          "name": "stdout",
          "text": [
            "de-train: 3145 out of 20000\n",
            "de-validation: 1572 out of 10000\n",
            "de-test: 1572 out of 10000\n"
          ]
        },
        {
          "output_type": "stream",
          "name": "stderr",
          "text": [
            "Reusing dataset xtreme (/root/.cache/huggingface/datasets/xtreme/PAN-X.fr/1.0.0/349258adc25bb45e47de193222f95e68a44f7a7ab53c4283b3f007208a11bf7e)\n"
          ]
        },
        {
          "output_type": "display_data",
          "data": {
            "text/plain": [
              "  0%|          | 0/3 [00:00<?, ?it/s]"
            ],
            "application/vnd.jupyter.widget-view+json": {
              "version_major": 2,
              "version_minor": 0,
              "model_id": "8649a7e9af5a4eaab30a6517a68dd64d"
            }
          },
          "metadata": {}
        },
        {
          "output_type": "stream",
          "name": "stderr",
          "text": [
            "Loading cached shuffled indices for dataset at /root/.cache/huggingface/datasets/xtreme/PAN-X.fr/1.0.0/349258adc25bb45e47de193222f95e68a44f7a7ab53c4283b3f007208a11bf7e/cache-c99e2d963e99c3bc.arrow\n",
            "Loading cached shuffled indices for dataset at /root/.cache/huggingface/datasets/xtreme/PAN-X.fr/1.0.0/349258adc25bb45e47de193222f95e68a44f7a7ab53c4283b3f007208a11bf7e/cache-95d424970390df95.arrow\n",
            "Loading cached shuffled indices for dataset at /root/.cache/huggingface/datasets/xtreme/PAN-X.fr/1.0.0/349258adc25bb45e47de193222f95e68a44f7a7ab53c4283b3f007208a11bf7e/cache-c8f8d90ec625373b.arrow\n"
          ]
        },
        {
          "output_type": "stream",
          "name": "stdout",
          "text": [
            "fr-train: 1145 out of 20000\n",
            "fr-validation: 572 out of 10000\n",
            "fr-test: 572 out of 10000\n"
          ]
        },
        {
          "output_type": "stream",
          "name": "stderr",
          "text": [
            "Reusing dataset xtreme (/root/.cache/huggingface/datasets/xtreme/PAN-X.it/1.0.0/349258adc25bb45e47de193222f95e68a44f7a7ab53c4283b3f007208a11bf7e)\n"
          ]
        },
        {
          "output_type": "display_data",
          "data": {
            "text/plain": [
              "  0%|          | 0/3 [00:00<?, ?it/s]"
            ],
            "application/vnd.jupyter.widget-view+json": {
              "version_major": 2,
              "version_minor": 0,
              "model_id": "d4e5a858443a456dbafbcbc1db485bf4"
            }
          },
          "metadata": {}
        },
        {
          "output_type": "stream",
          "name": "stderr",
          "text": [
            "Loading cached shuffled indices for dataset at /root/.cache/huggingface/datasets/xtreme/PAN-X.it/1.0.0/349258adc25bb45e47de193222f95e68a44f7a7ab53c4283b3f007208a11bf7e/cache-127e932015d0d753.arrow\n",
            "Loading cached shuffled indices for dataset at /root/.cache/huggingface/datasets/xtreme/PAN-X.it/1.0.0/349258adc25bb45e47de193222f95e68a44f7a7ab53c4283b3f007208a11bf7e/cache-f7bdfc2c46f67b82.arrow\n",
            "Loading cached shuffled indices for dataset at /root/.cache/huggingface/datasets/xtreme/PAN-X.it/1.0.0/349258adc25bb45e47de193222f95e68a44f7a7ab53c4283b3f007208a11bf7e/cache-affab8fcf3f5bef3.arrow\n"
          ]
        },
        {
          "output_type": "stream",
          "name": "stdout",
          "text": [
            "it-train: 420 out of 20000\n",
            "it-validation: 210 out of 10000\n",
            "it-test: 210 out of 10000\n"
          ]
        },
        {
          "output_type": "stream",
          "name": "stderr",
          "text": [
            "Reusing dataset xtreme (/root/.cache/huggingface/datasets/xtreme/PAN-X.en/1.0.0/349258adc25bb45e47de193222f95e68a44f7a7ab53c4283b3f007208a11bf7e)\n"
          ]
        },
        {
          "output_type": "display_data",
          "data": {
            "text/plain": [
              "  0%|          | 0/3 [00:00<?, ?it/s]"
            ],
            "application/vnd.jupyter.widget-view+json": {
              "version_major": 2,
              "version_minor": 0,
              "model_id": "ebbf84d009114d808e66e1f2e7e11322"
            }
          },
          "metadata": {}
        },
        {
          "output_type": "stream",
          "name": "stderr",
          "text": [
            "Loading cached shuffled indices for dataset at /root/.cache/huggingface/datasets/xtreme/PAN-X.en/1.0.0/349258adc25bb45e47de193222f95e68a44f7a7ab53c4283b3f007208a11bf7e/cache-739f170d5471f1cb.arrow\n",
            "Loading cached shuffled indices for dataset at /root/.cache/huggingface/datasets/xtreme/PAN-X.en/1.0.0/349258adc25bb45e47de193222f95e68a44f7a7ab53c4283b3f007208a11bf7e/cache-3e10f730fe826b06.arrow\n",
            "Loading cached shuffled indices for dataset at /root/.cache/huggingface/datasets/xtreme/PAN-X.en/1.0.0/349258adc25bb45e47de193222f95e68a44f7a7ab53c4283b3f007208a11bf7e/cache-5314845d936312dc.arrow\n"
          ]
        },
        {
          "output_type": "stream",
          "name": "stdout",
          "text": [
            "en-train: 295 out of 20000\n",
            "en-validation: 147 out of 10000\n",
            "en-test: 147 out of 10000\n"
          ]
        }
      ]
    },
    {
      "cell_type": "code",
      "source": [
        "for attr, attr_value in panx_ch[\"de\"][\"train\"][0].items():\n",
        "    print(attr, attr_value)\n",
        "\n",
        "for attr, attr_value in panx_ch[\"de\"][\"train\"].features.items():\n",
        "    print(attr, attr_value)"
      ],
      "metadata": {
        "id": "aDgzN_RkDGU0",
        "colab": {
          "base_uri": "https://localhost:8080/"
        },
        "outputId": "78ac7e45-7474-4619-ad24-b2b1e33cbbf7"
      },
      "execution_count": 5,
      "outputs": [
        {
          "output_type": "stream",
          "name": "stdout",
          "text": [
            "tokens ['2.000', 'Einwohnern', 'an', 'der', 'Danziger', 'Bucht', 'in', 'der', 'polnischen', 'Woiwodschaft', 'Pommern', '.']\n",
            "ner_tags [0, 0, 0, 0, 5, 6, 0, 0, 5, 5, 6, 0]\n",
            "langs ['de', 'de', 'de', 'de', 'de', 'de', 'de', 'de', 'de', 'de', 'de', 'de']\n",
            "tokens Sequence(feature=Value(dtype='string', id=None), length=-1, id=None)\n",
            "ner_tags Sequence(feature=ClassLabel(num_classes=7, names=['O', 'B-PER', 'I-PER', 'B-ORG', 'I-ORG', 'B-LOC', 'I-LOC'], id=None), length=-1, id=None)\n",
            "langs Sequence(feature=Value(dtype='string', id=None), length=-1, id=None)\n"
          ]
        }
      ]
    },
    {
      "cell_type": "code",
      "source": [
        "tags = panx_ch[\"de\"][\"train\"].features[\"ner_tags\"].feature\n",
        "print(tags)\n",
        "def create_tag_names(batch):\n",
        "    return {'ner_tags_str': [tags.int2str(idx) for idx in batch['ner_tags']]}\n",
        "  \n",
        "panx_de = panx_ch[\"de\"].map(create_tag_names)\n",
        "de_example = panx_de[\"train\"][0]\n",
        "print(de_example)\n"
      ],
      "metadata": {
        "id": "tcRYikUm2SzX",
        "colab": {
          "base_uri": "https://localhost:8080/"
        },
        "outputId": "e1d1b21c-6a17-4080-f9e7-1108482f6e29"
      },
      "execution_count": 6,
      "outputs": [
        {
          "output_type": "stream",
          "name": "stderr",
          "text": [
            "Loading cached processed dataset at /root/.cache/huggingface/datasets/xtreme/PAN-X.de/1.0.0/349258adc25bb45e47de193222f95e68a44f7a7ab53c4283b3f007208a11bf7e/cache-f006d4fd6dbd3aa9.arrow\n",
            "Loading cached processed dataset at /root/.cache/huggingface/datasets/xtreme/PAN-X.de/1.0.0/349258adc25bb45e47de193222f95e68a44f7a7ab53c4283b3f007208a11bf7e/cache-45042c779ba3dce9.arrow\n",
            "Loading cached processed dataset at /root/.cache/huggingface/datasets/xtreme/PAN-X.de/1.0.0/349258adc25bb45e47de193222f95e68a44f7a7ab53c4283b3f007208a11bf7e/cache-aee8454953a922ee.arrow\n"
          ]
        },
        {
          "output_type": "stream",
          "name": "stdout",
          "text": [
            "ClassLabel(num_classes=7, names=['O', 'B-PER', 'I-PER', 'B-ORG', 'I-ORG', 'B-LOC', 'I-LOC'], id=None)\n",
            "{'tokens': ['2.000', 'Einwohnern', 'an', 'der', 'Danziger', 'Bucht', 'in', 'der', 'polnischen', 'Woiwodschaft', 'Pommern', '.'], 'ner_tags': [0, 0, 0, 0, 5, 6, 0, 0, 5, 5, 6, 0], 'langs': ['de', 'de', 'de', 'de', 'de', 'de', 'de', 'de', 'de', 'de', 'de', 'de'], 'ner_tags_str': ['O', 'O', 'O', 'O', 'B-LOC', 'I-LOC', 'O', 'O', 'B-LOC', 'B-LOC', 'I-LOC', 'O']}\n"
          ]
        }
      ]
    },
    {
      "cell_type": "code",
      "source": [
        "split2freqs = defaultdict(Counter) \n",
        "for split, dataset in panx_de.items(): \n",
        "    for row in dataset[\"ner_tags_str\"]: \n",
        "        for tag in row: \n",
        "            if tag.startswith(\"B\"): \n",
        "                tag_type = tag.split(\"-\")[1] \n",
        "                split2freqs[split][tag_type] += 1\n",
        "\n",
        "print(split2freqs)\n"
      ],
      "metadata": {
        "id": "7UVCJgwV5FMI",
        "colab": {
          "base_uri": "https://localhost:8080/"
        },
        "outputId": "a0ecc873-789b-45df-b1d5-3ac553d02442"
      },
      "execution_count": 7,
      "outputs": [
        {
          "output_type": "stream",
          "name": "stdout",
          "text": [
            "defaultdict(<class 'collections.Counter'>, {'train': Counter({'PER': 1546, 'LOC': 1523, 'ORG': 1319}), 'validation': Counter({'LOC': 764, 'PER': 755, 'ORG': 653}), 'test': Counter({'LOC': 833, 'PER': 768, 'ORG': 640})})\n"
          ]
        }
      ]
    },
    {
      "cell_type": "code",
      "source": [
        "pd.DataFrame.from_dict(split2freqs, orient=\"index\")"
      ],
      "metadata": {
        "id": "6xKJ-4vX6opg",
        "colab": {
          "base_uri": "https://localhost:8080/",
          "height": 143
        },
        "outputId": "9fe7107b-cc42-45d0-eb65-2a8819d4af96"
      },
      "execution_count": 8,
      "outputs": [
        {
          "output_type": "execute_result",
          "data": {
            "text/plain": [
              "             LOC   ORG   PER\n",
              "train       1523  1319  1546\n",
              "validation   764   653   755\n",
              "test         833   640   768"
            ],
            "text/html": [
              "\n",
              "  <div id=\"df-666e99c7-cbf2-4540-b906-130d014a055b\">\n",
              "    <div class=\"colab-df-container\">\n",
              "      <div>\n",
              "<style scoped>\n",
              "    .dataframe tbody tr th:only-of-type {\n",
              "        vertical-align: middle;\n",
              "    }\n",
              "\n",
              "    .dataframe tbody tr th {\n",
              "        vertical-align: top;\n",
              "    }\n",
              "\n",
              "    .dataframe thead th {\n",
              "        text-align: right;\n",
              "    }\n",
              "</style>\n",
              "<table border=\"1\" class=\"dataframe\">\n",
              "  <thead>\n",
              "    <tr style=\"text-align: right;\">\n",
              "      <th></th>\n",
              "      <th>LOC</th>\n",
              "      <th>ORG</th>\n",
              "      <th>PER</th>\n",
              "    </tr>\n",
              "  </thead>\n",
              "  <tbody>\n",
              "    <tr>\n",
              "      <th>train</th>\n",
              "      <td>1523</td>\n",
              "      <td>1319</td>\n",
              "      <td>1546</td>\n",
              "    </tr>\n",
              "    <tr>\n",
              "      <th>validation</th>\n",
              "      <td>764</td>\n",
              "      <td>653</td>\n",
              "      <td>755</td>\n",
              "    </tr>\n",
              "    <tr>\n",
              "      <th>test</th>\n",
              "      <td>833</td>\n",
              "      <td>640</td>\n",
              "      <td>768</td>\n",
              "    </tr>\n",
              "  </tbody>\n",
              "</table>\n",
              "</div>\n",
              "      <button class=\"colab-df-convert\" onclick=\"convertToInteractive('df-666e99c7-cbf2-4540-b906-130d014a055b')\"\n",
              "              title=\"Convert this dataframe to an interactive table.\"\n",
              "              style=\"display:none;\">\n",
              "        \n",
              "  <svg xmlns=\"http://www.w3.org/2000/svg\" height=\"24px\"viewBox=\"0 0 24 24\"\n",
              "       width=\"24px\">\n",
              "    <path d=\"M0 0h24v24H0V0z\" fill=\"none\"/>\n",
              "    <path d=\"M18.56 5.44l.94 2.06.94-2.06 2.06-.94-2.06-.94-.94-2.06-.94 2.06-2.06.94zm-11 1L8.5 8.5l.94-2.06 2.06-.94-2.06-.94L8.5 2.5l-.94 2.06-2.06.94zm10 10l.94 2.06.94-2.06 2.06-.94-2.06-.94-.94-2.06-.94 2.06-2.06.94z\"/><path d=\"M17.41 7.96l-1.37-1.37c-.4-.4-.92-.59-1.43-.59-.52 0-1.04.2-1.43.59L10.3 9.45l-7.72 7.72c-.78.78-.78 2.05 0 2.83L4 21.41c.39.39.9.59 1.41.59.51 0 1.02-.2 1.41-.59l7.78-7.78 2.81-2.81c.8-.78.8-2.07 0-2.86zM5.41 20L4 18.59l7.72-7.72 1.47 1.35L5.41 20z\"/>\n",
              "  </svg>\n",
              "      </button>\n",
              "      \n",
              "  <style>\n",
              "    .colab-df-container {\n",
              "      display:flex;\n",
              "      flex-wrap:wrap;\n",
              "      gap: 12px;\n",
              "    }\n",
              "\n",
              "    .colab-df-convert {\n",
              "      background-color: #E8F0FE;\n",
              "      border: none;\n",
              "      border-radius: 50%;\n",
              "      cursor: pointer;\n",
              "      display: none;\n",
              "      fill: #1967D2;\n",
              "      height: 32px;\n",
              "      padding: 0 0 0 0;\n",
              "      width: 32px;\n",
              "    }\n",
              "\n",
              "    .colab-df-convert:hover {\n",
              "      background-color: #E2EBFA;\n",
              "      box-shadow: 0px 1px 2px rgba(60, 64, 67, 0.3), 0px 1px 3px 1px rgba(60, 64, 67, 0.15);\n",
              "      fill: #174EA6;\n",
              "    }\n",
              "\n",
              "    [theme=dark] .colab-df-convert {\n",
              "      background-color: #3B4455;\n",
              "      fill: #D2E3FC;\n",
              "    }\n",
              "\n",
              "    [theme=dark] .colab-df-convert:hover {\n",
              "      background-color: #434B5C;\n",
              "      box-shadow: 0px 1px 3px 1px rgba(0, 0, 0, 0.15);\n",
              "      filter: drop-shadow(0px 1px 2px rgba(0, 0, 0, 0.3));\n",
              "      fill: #FFFFFF;\n",
              "    }\n",
              "  </style>\n",
              "\n",
              "      <script>\n",
              "        const buttonEl =\n",
              "          document.querySelector('#df-666e99c7-cbf2-4540-b906-130d014a055b button.colab-df-convert');\n",
              "        buttonEl.style.display =\n",
              "          google.colab.kernel.accessAllowed ? 'block' : 'none';\n",
              "\n",
              "        async function convertToInteractive(key) {\n",
              "          const element = document.querySelector('#df-666e99c7-cbf2-4540-b906-130d014a055b');\n",
              "          const dataTable =\n",
              "            await google.colab.kernel.invokeFunction('convertToInteractive',\n",
              "                                                     [key], {});\n",
              "          if (!dataTable) return;\n",
              "\n",
              "          const docLinkHtml = 'Like what you see? Visit the ' +\n",
              "            '<a target=\"_blank\" href=https://colab.research.google.com/notebooks/data_table.ipynb>data table notebook</a>'\n",
              "            + ' to learn more about interactive tables.';\n",
              "          element.innerHTML = '';\n",
              "          dataTable['output_type'] = 'display_data';\n",
              "          await google.colab.output.renderOutput(dataTable, element);\n",
              "          const docLink = document.createElement('div');\n",
              "          docLink.innerHTML = docLinkHtml;\n",
              "          element.appendChild(docLink);\n",
              "        }\n",
              "      </script>\n",
              "    </div>\n",
              "  </div>\n",
              "  "
            ]
          },
          "metadata": {},
          "execution_count": 8
        }
      ]
    },
    {
      "cell_type": "code",
      "source": [
        "bert_model_name = \"bert-base-cased\" \n",
        "xlmr_model_name = \"xlm-roberta-base\" \n",
        "bert_tokenizer = AutoTokenizer.from_pretrained(bert_model_name) \n",
        "xlmr_tokenizer = AutoTokenizer.from_pretrained(xlmr_model_name)\n"
      ],
      "metadata": {
        "id": "Ngbg1jaJ68VR"
      },
      "execution_count": 9,
      "outputs": []
    },
    {
      "cell_type": "code",
      "source": [
        "text = \"Jack Sparrow loves New York!\" \n",
        "bert_tokens = bert_tokenizer(text).tokens() \n",
        "xlmr_tokens = xlmr_tokenizer(text).tokens()\n",
        "print(bert_tokens)\n",
        "print(xlmr_tokens)\n",
        "#\"\".join(xlmr_tokens).replace(u\"\\u2581\", \" \")\n",
        "\"\".join(xlmr_tokens).replace(\"▁\", \" \")"
      ],
      "metadata": {
        "id": "djegzFZ38BBk",
        "colab": {
          "base_uri": "https://localhost:8080/",
          "height": 71
        },
        "outputId": "7f991d57-5ee1-4613-cd49-6300ac8d6d02"
      },
      "execution_count": 10,
      "outputs": [
        {
          "output_type": "stream",
          "name": "stdout",
          "text": [
            "['[CLS]', 'Jack', 'Spa', '##rrow', 'loves', 'New', 'York', '!', '[SEP]']\n",
            "['<s>', '▁Jack', '▁Spar', 'row', '▁love', 's', '▁New', '▁York', '!', '</s>']\n"
          ]
        },
        {
          "output_type": "execute_result",
          "data": {
            "text/plain": [
              "'<s> Jack Sparrow loves New York!</s>'"
            ],
            "application/vnd.google.colaboratory.intrinsic+json": {
              "type": "string"
            }
          },
          "metadata": {},
          "execution_count": 10
        }
      ]
    },
    {
      "cell_type": "code",
      "source": [
        "class XLMRobertaForTokenClassification(RobertaPreTrainedModel):\n",
        "    config_class = XLMRobertaConfig\n",
        "    def __init__(self, config): \n",
        "        super().__init__(config)\n",
        "        self.num_labels = config.num_labels\n",
        "        # Load model body \n",
        "        self.roberta = RobertaModel(config, add_pooling_layer = False)\n",
        "        # Set up token classification head \n",
        "        self.dropout = nn.Dropout(config.hidden_dropout_prob) \n",
        "        self.classifier = nn.Linear(config.hidden_size, config.num_labels)\n",
        "        # Load and initialize weights \n",
        "        self.init_weights()\n",
        "\n",
        "    def forward(self, input_ids = None, attention_mask = None, token_type_ids = None, labels = None, **kwargs): \n",
        "        #Use model body to get encoder representations \n",
        "        outputs = self.roberta(input_ids, attention_mask=attention_mask, token_type_ids=token_type_ids, **kwargs)\n",
        "        # Apply classifier to encoder representation \n",
        "        sequence_output = self.dropout(outputs[0]) \n",
        "        logits = self.classifier(sequence_output)\n",
        "        # Calculate losses \n",
        "        loss = None\n",
        "        if labels is not None: \n",
        "            loss_fct = nn.CrossEntropyLoss() \n",
        "            loss = loss_fct(logits.view(-1, self.num_labels), labels.view(-1))\n",
        "            # Return model output object\n",
        "        return TokenClassifierOutput(loss = loss, logits = logits, hidden_states = outputs.hidden_states, attentions = outputs.attentions)\n"
      ],
      "metadata": {
        "id": "q_Q0y7lQ8Fh6"
      },
      "execution_count": 11,
      "outputs": []
    },
    {
      "cell_type": "code",
      "source": [
        "index2tag = {idx: tag for idx, tag in enumerate(tags.names)} \n",
        "tag2index = {tag: idx for idx, tag in enumerate(tags.names)}\n",
        "xlmr_config = AutoConfig.from_pretrained(xlmr_model_name, num_labels=tags.num_classes, id2label=index2tag, label2id=tag2index)\n",
        "device = torch.device(\"cuda\" if torch.cuda.is_available() else \"cpu\")\n",
        "xlmr_model = XLMRobertaForTokenClassification.from_pretrained(xlmr_model_name, config=xlmr_config).to(device)"
      ],
      "metadata": {
        "id": "i8VCdmoU8U7X",
        "colab": {
          "base_uri": "https://localhost:8080/"
        },
        "outputId": "8f84a250-6d56-4f59-ebca-c71e0cc651aa"
      },
      "execution_count": 12,
      "outputs": [
        {
          "output_type": "stream",
          "name": "stderr",
          "text": [
            "Some weights of the model checkpoint at xlm-roberta-base were not used when initializing XLMRobertaForTokenClassification: ['lm_head.dense.weight', 'roberta.pooler.dense.bias', 'lm_head.dense.bias', 'lm_head.layer_norm.bias', 'roberta.pooler.dense.weight', 'lm_head.layer_norm.weight', 'lm_head.bias', 'lm_head.decoder.weight']\n",
            "- This IS expected if you are initializing XLMRobertaForTokenClassification from the checkpoint of a model trained on another task or with another architecture (e.g. initializing a BertForSequenceClassification model from a BertForPreTraining model).\n",
            "- This IS NOT expected if you are initializing XLMRobertaForTokenClassification from the checkpoint of a model that you expect to be exactly identical (initializing a BertForSequenceClassification model from a BertForSequenceClassification model).\n",
            "Some weights of XLMRobertaForTokenClassification were not initialized from the model checkpoint at xlm-roberta-base and are newly initialized: ['roberta.embeddings.position_ids', 'classifier.bias', 'classifier.weight']\n",
            "You should probably TRAIN this model on a down-stream task to be able to use it for predictions and inference.\n"
          ]
        }
      ]
    },
    {
      "cell_type": "code",
      "source": [
        "input_ids = xlmr_tokenizer.encode(text, return_tensors=\"pt\")\n",
        "pd.DataFrame([xlmr_tokens, input_ids[0].numpy()], index=[\"Tokens\", \"Input IDs\"])"
      ],
      "metadata": {
        "id": "XPNfMOdcMZWx",
        "colab": {
          "base_uri": "https://localhost:8080/",
          "height": 112
        },
        "outputId": "ba0dcc4a-f4db-4a5c-ee19-31cc66235cb1"
      },
      "execution_count": 13,
      "outputs": [
        {
          "output_type": "execute_result",
          "data": {
            "text/plain": [
              "             0      1      2      3      4  5     6      7   8     9\n",
              "Tokens     <s>  ▁Jack  ▁Spar    row  ▁love  s  ▁New  ▁York   !  </s>\n",
              "Input IDs    0  21763  37456  15555   5161  7  2356   5753  38     2"
            ],
            "text/html": [
              "\n",
              "  <div id=\"df-f71f653b-3a3c-4e53-9673-a00db4029c50\">\n",
              "    <div class=\"colab-df-container\">\n",
              "      <div>\n",
              "<style scoped>\n",
              "    .dataframe tbody tr th:only-of-type {\n",
              "        vertical-align: middle;\n",
              "    }\n",
              "\n",
              "    .dataframe tbody tr th {\n",
              "        vertical-align: top;\n",
              "    }\n",
              "\n",
              "    .dataframe thead th {\n",
              "        text-align: right;\n",
              "    }\n",
              "</style>\n",
              "<table border=\"1\" class=\"dataframe\">\n",
              "  <thead>\n",
              "    <tr style=\"text-align: right;\">\n",
              "      <th></th>\n",
              "      <th>0</th>\n",
              "      <th>1</th>\n",
              "      <th>2</th>\n",
              "      <th>3</th>\n",
              "      <th>4</th>\n",
              "      <th>5</th>\n",
              "      <th>6</th>\n",
              "      <th>7</th>\n",
              "      <th>8</th>\n",
              "      <th>9</th>\n",
              "    </tr>\n",
              "  </thead>\n",
              "  <tbody>\n",
              "    <tr>\n",
              "      <th>Tokens</th>\n",
              "      <td>&lt;s&gt;</td>\n",
              "      <td>▁Jack</td>\n",
              "      <td>▁Spar</td>\n",
              "      <td>row</td>\n",
              "      <td>▁love</td>\n",
              "      <td>s</td>\n",
              "      <td>▁New</td>\n",
              "      <td>▁York</td>\n",
              "      <td>!</td>\n",
              "      <td>&lt;/s&gt;</td>\n",
              "    </tr>\n",
              "    <tr>\n",
              "      <th>Input IDs</th>\n",
              "      <td>0</td>\n",
              "      <td>21763</td>\n",
              "      <td>37456</td>\n",
              "      <td>15555</td>\n",
              "      <td>5161</td>\n",
              "      <td>7</td>\n",
              "      <td>2356</td>\n",
              "      <td>5753</td>\n",
              "      <td>38</td>\n",
              "      <td>2</td>\n",
              "    </tr>\n",
              "  </tbody>\n",
              "</table>\n",
              "</div>\n",
              "      <button class=\"colab-df-convert\" onclick=\"convertToInteractive('df-f71f653b-3a3c-4e53-9673-a00db4029c50')\"\n",
              "              title=\"Convert this dataframe to an interactive table.\"\n",
              "              style=\"display:none;\">\n",
              "        \n",
              "  <svg xmlns=\"http://www.w3.org/2000/svg\" height=\"24px\"viewBox=\"0 0 24 24\"\n",
              "       width=\"24px\">\n",
              "    <path d=\"M0 0h24v24H0V0z\" fill=\"none\"/>\n",
              "    <path d=\"M18.56 5.44l.94 2.06.94-2.06 2.06-.94-2.06-.94-.94-2.06-.94 2.06-2.06.94zm-11 1L8.5 8.5l.94-2.06 2.06-.94-2.06-.94L8.5 2.5l-.94 2.06-2.06.94zm10 10l.94 2.06.94-2.06 2.06-.94-2.06-.94-.94-2.06-.94 2.06-2.06.94z\"/><path d=\"M17.41 7.96l-1.37-1.37c-.4-.4-.92-.59-1.43-.59-.52 0-1.04.2-1.43.59L10.3 9.45l-7.72 7.72c-.78.78-.78 2.05 0 2.83L4 21.41c.39.39.9.59 1.41.59.51 0 1.02-.2 1.41-.59l7.78-7.78 2.81-2.81c.8-.78.8-2.07 0-2.86zM5.41 20L4 18.59l7.72-7.72 1.47 1.35L5.41 20z\"/>\n",
              "  </svg>\n",
              "      </button>\n",
              "      \n",
              "  <style>\n",
              "    .colab-df-container {\n",
              "      display:flex;\n",
              "      flex-wrap:wrap;\n",
              "      gap: 12px;\n",
              "    }\n",
              "\n",
              "    .colab-df-convert {\n",
              "      background-color: #E8F0FE;\n",
              "      border: none;\n",
              "      border-radius: 50%;\n",
              "      cursor: pointer;\n",
              "      display: none;\n",
              "      fill: #1967D2;\n",
              "      height: 32px;\n",
              "      padding: 0 0 0 0;\n",
              "      width: 32px;\n",
              "    }\n",
              "\n",
              "    .colab-df-convert:hover {\n",
              "      background-color: #E2EBFA;\n",
              "      box-shadow: 0px 1px 2px rgba(60, 64, 67, 0.3), 0px 1px 3px 1px rgba(60, 64, 67, 0.15);\n",
              "      fill: #174EA6;\n",
              "    }\n",
              "\n",
              "    [theme=dark] .colab-df-convert {\n",
              "      background-color: #3B4455;\n",
              "      fill: #D2E3FC;\n",
              "    }\n",
              "\n",
              "    [theme=dark] .colab-df-convert:hover {\n",
              "      background-color: #434B5C;\n",
              "      box-shadow: 0px 1px 3px 1px rgba(0, 0, 0, 0.15);\n",
              "      filter: drop-shadow(0px 1px 2px rgba(0, 0, 0, 0.3));\n",
              "      fill: #FFFFFF;\n",
              "    }\n",
              "  </style>\n",
              "\n",
              "      <script>\n",
              "        const buttonEl =\n",
              "          document.querySelector('#df-f71f653b-3a3c-4e53-9673-a00db4029c50 button.colab-df-convert');\n",
              "        buttonEl.style.display =\n",
              "          google.colab.kernel.accessAllowed ? 'block' : 'none';\n",
              "\n",
              "        async function convertToInteractive(key) {\n",
              "          const element = document.querySelector('#df-f71f653b-3a3c-4e53-9673-a00db4029c50');\n",
              "          const dataTable =\n",
              "            await google.colab.kernel.invokeFunction('convertToInteractive',\n",
              "                                                     [key], {});\n",
              "          if (!dataTable) return;\n",
              "\n",
              "          const docLinkHtml = 'Like what you see? Visit the ' +\n",
              "            '<a target=\"_blank\" href=https://colab.research.google.com/notebooks/data_table.ipynb>data table notebook</a>'\n",
              "            + ' to learn more about interactive tables.';\n",
              "          element.innerHTML = '';\n",
              "          dataTable['output_type'] = 'display_data';\n",
              "          await google.colab.output.renderOutput(dataTable, element);\n",
              "          const docLink = document.createElement('div');\n",
              "          docLink.innerHTML = docLinkHtml;\n",
              "          element.appendChild(docLink);\n",
              "        }\n",
              "      </script>\n",
              "    </div>\n",
              "  </div>\n",
              "  "
            ]
          },
          "metadata": {},
          "execution_count": 13
        }
      ]
    },
    {
      "cell_type": "code",
      "source": [
        "outputs = xlmr_model(input_ids.to(device)).logits\n",
        "predictions = torch.argmax(outputs, dim=-1)\n",
        "print(f\"Number of tokens in sequence: {len(xlmr_tokens)}\") \n",
        "print(f\"Shape of outputs: {outputs.shape}\") \n",
        "print(f\"Shape of predictions: {predictions.shape}\") "
      ],
      "metadata": {
        "id": "ACITZ9KpMrAD",
        "colab": {
          "base_uri": "https://localhost:8080/"
        },
        "outputId": "14988d0b-0075-41a9-ae84-cf69e9f94cce"
      },
      "execution_count": 14,
      "outputs": [
        {
          "output_type": "stream",
          "name": "stdout",
          "text": [
            "Number of tokens in sequence: 10\n",
            "Shape of outputs: torch.Size([1, 10, 7])\n",
            "Shape of predictions: torch.Size([1, 10])\n"
          ]
        }
      ]
    },
    {
      "cell_type": "code",
      "source": [
        "def tag_text(text, tags, model, tokenizer):\n",
        "    # Get tokens with special characters \n",
        "    tokens = tokenizer(text).tokens() \n",
        "    # Encode the sequence into IDs \n",
        "    input_ids = xlmr_tokenizer(text, return_tensors=\"pt\").input_ids.to(device) \n",
        "    # Get predictions as distribution over 7 possible classes \n",
        "    outputs = model(input_ids)[0] \n",
        "    # Take argmax to get most likely class per token \n",
        "    predictions = torch.argmax(outputs, dim=2) \n",
        "    # Convert to DataFrame \n",
        "    preds = [tags.names[p] for p in predictions[0].cpu().numpy()] \n",
        "    return pd.DataFrame([tokens, preds], index=[\"Tokens\", \"Tags\"])\n"
      ],
      "metadata": {
        "id": "KJJTRGDMNR8i"
      },
      "execution_count": 15,
      "outputs": []
    },
    {
      "cell_type": "code",
      "source": [
        "de_example = panx_de['train'][0]\n",
        "example_tokens, example_tags = de_example[\"tokens\"], de_example[\"ner_tags\"]\n",
        "tokenized_input = xlmr_tokenizer(example_tokens, is_split_into_words=True)\n",
        "# print(tokenized_input) => {'input_ids': [], 'attention_mask': []}\n",
        "tokens = xlmr_tokenizer.convert_ids_to_tokens(tokenized_input[\"input_ids\"])\n",
        "word_ids = tokenized_input.word_ids()  \n",
        "pd.DataFrame([tokens, word_ids], index=[\"Tokens\", \"WordID\"])"
      ],
      "metadata": {
        "id": "-iVNFbpuN7th",
        "colab": {
          "base_uri": "https://localhost:8080/",
          "height": 205
        },
        "outputId": "9457f1e4-6530-4038-890f-30dc1c11aa48"
      },
      "execution_count": 16,
      "outputs": [
        {
          "output_type": "execute_result",
          "data": {
            "text/plain": [
              "          0       1           2  3    4     5     6   7    8      9   ...  \\\n",
              "Tokens   <s>  ▁2.000  ▁Einwohner  n  ▁an  ▁der  ▁Dan  zi  ger  ▁Buch  ...   \n",
              "WordID  None       0           1  1    2     3     4   4    4      5  ...   \n",
              "\n",
              "         15 16   17      18   19    20  21  22  23    24  \n",
              "Tokens  ▁Wo  i  wod  schaft  ▁Po  mmer   n   ▁   .  </s>  \n",
              "WordID    9  9    9       9   10    10  10  11  11  None  \n",
              "\n",
              "[2 rows x 25 columns]"
            ],
            "text/html": [
              "\n",
              "  <div id=\"df-39f2d463-13e0-4c2f-a55d-936666c895b4\">\n",
              "    <div class=\"colab-df-container\">\n",
              "      <div>\n",
              "<style scoped>\n",
              "    .dataframe tbody tr th:only-of-type {\n",
              "        vertical-align: middle;\n",
              "    }\n",
              "\n",
              "    .dataframe tbody tr th {\n",
              "        vertical-align: top;\n",
              "    }\n",
              "\n",
              "    .dataframe thead th {\n",
              "        text-align: right;\n",
              "    }\n",
              "</style>\n",
              "<table border=\"1\" class=\"dataframe\">\n",
              "  <thead>\n",
              "    <tr style=\"text-align: right;\">\n",
              "      <th></th>\n",
              "      <th>0</th>\n",
              "      <th>1</th>\n",
              "      <th>2</th>\n",
              "      <th>3</th>\n",
              "      <th>4</th>\n",
              "      <th>5</th>\n",
              "      <th>6</th>\n",
              "      <th>7</th>\n",
              "      <th>8</th>\n",
              "      <th>9</th>\n",
              "      <th>...</th>\n",
              "      <th>15</th>\n",
              "      <th>16</th>\n",
              "      <th>17</th>\n",
              "      <th>18</th>\n",
              "      <th>19</th>\n",
              "      <th>20</th>\n",
              "      <th>21</th>\n",
              "      <th>22</th>\n",
              "      <th>23</th>\n",
              "      <th>24</th>\n",
              "    </tr>\n",
              "  </thead>\n",
              "  <tbody>\n",
              "    <tr>\n",
              "      <th>Tokens</th>\n",
              "      <td>&lt;s&gt;</td>\n",
              "      <td>▁2.000</td>\n",
              "      <td>▁Einwohner</td>\n",
              "      <td>n</td>\n",
              "      <td>▁an</td>\n",
              "      <td>▁der</td>\n",
              "      <td>▁Dan</td>\n",
              "      <td>zi</td>\n",
              "      <td>ger</td>\n",
              "      <td>▁Buch</td>\n",
              "      <td>...</td>\n",
              "      <td>▁Wo</td>\n",
              "      <td>i</td>\n",
              "      <td>wod</td>\n",
              "      <td>schaft</td>\n",
              "      <td>▁Po</td>\n",
              "      <td>mmer</td>\n",
              "      <td>n</td>\n",
              "      <td>▁</td>\n",
              "      <td>.</td>\n",
              "      <td>&lt;/s&gt;</td>\n",
              "    </tr>\n",
              "    <tr>\n",
              "      <th>WordID</th>\n",
              "      <td>None</td>\n",
              "      <td>0</td>\n",
              "      <td>1</td>\n",
              "      <td>1</td>\n",
              "      <td>2</td>\n",
              "      <td>3</td>\n",
              "      <td>4</td>\n",
              "      <td>4</td>\n",
              "      <td>4</td>\n",
              "      <td>5</td>\n",
              "      <td>...</td>\n",
              "      <td>9</td>\n",
              "      <td>9</td>\n",
              "      <td>9</td>\n",
              "      <td>9</td>\n",
              "      <td>10</td>\n",
              "      <td>10</td>\n",
              "      <td>10</td>\n",
              "      <td>11</td>\n",
              "      <td>11</td>\n",
              "      <td>None</td>\n",
              "    </tr>\n",
              "  </tbody>\n",
              "</table>\n",
              "<p>2 rows × 25 columns</p>\n",
              "</div>\n",
              "      <button class=\"colab-df-convert\" onclick=\"convertToInteractive('df-39f2d463-13e0-4c2f-a55d-936666c895b4')\"\n",
              "              title=\"Convert this dataframe to an interactive table.\"\n",
              "              style=\"display:none;\">\n",
              "        \n",
              "  <svg xmlns=\"http://www.w3.org/2000/svg\" height=\"24px\"viewBox=\"0 0 24 24\"\n",
              "       width=\"24px\">\n",
              "    <path d=\"M0 0h24v24H0V0z\" fill=\"none\"/>\n",
              "    <path d=\"M18.56 5.44l.94 2.06.94-2.06 2.06-.94-2.06-.94-.94-2.06-.94 2.06-2.06.94zm-11 1L8.5 8.5l.94-2.06 2.06-.94-2.06-.94L8.5 2.5l-.94 2.06-2.06.94zm10 10l.94 2.06.94-2.06 2.06-.94-2.06-.94-.94-2.06-.94 2.06-2.06.94z\"/><path d=\"M17.41 7.96l-1.37-1.37c-.4-.4-.92-.59-1.43-.59-.52 0-1.04.2-1.43.59L10.3 9.45l-7.72 7.72c-.78.78-.78 2.05 0 2.83L4 21.41c.39.39.9.59 1.41.59.51 0 1.02-.2 1.41-.59l7.78-7.78 2.81-2.81c.8-.78.8-2.07 0-2.86zM5.41 20L4 18.59l7.72-7.72 1.47 1.35L5.41 20z\"/>\n",
              "  </svg>\n",
              "      </button>\n",
              "      \n",
              "  <style>\n",
              "    .colab-df-container {\n",
              "      display:flex;\n",
              "      flex-wrap:wrap;\n",
              "      gap: 12px;\n",
              "    }\n",
              "\n",
              "    .colab-df-convert {\n",
              "      background-color: #E8F0FE;\n",
              "      border: none;\n",
              "      border-radius: 50%;\n",
              "      cursor: pointer;\n",
              "      display: none;\n",
              "      fill: #1967D2;\n",
              "      height: 32px;\n",
              "      padding: 0 0 0 0;\n",
              "      width: 32px;\n",
              "    }\n",
              "\n",
              "    .colab-df-convert:hover {\n",
              "      background-color: #E2EBFA;\n",
              "      box-shadow: 0px 1px 2px rgba(60, 64, 67, 0.3), 0px 1px 3px 1px rgba(60, 64, 67, 0.15);\n",
              "      fill: #174EA6;\n",
              "    }\n",
              "\n",
              "    [theme=dark] .colab-df-convert {\n",
              "      background-color: #3B4455;\n",
              "      fill: #D2E3FC;\n",
              "    }\n",
              "\n",
              "    [theme=dark] .colab-df-convert:hover {\n",
              "      background-color: #434B5C;\n",
              "      box-shadow: 0px 1px 3px 1px rgba(0, 0, 0, 0.15);\n",
              "      filter: drop-shadow(0px 1px 2px rgba(0, 0, 0, 0.3));\n",
              "      fill: #FFFFFF;\n",
              "    }\n",
              "  </style>\n",
              "\n",
              "      <script>\n",
              "        const buttonEl =\n",
              "          document.querySelector('#df-39f2d463-13e0-4c2f-a55d-936666c895b4 button.colab-df-convert');\n",
              "        buttonEl.style.display =\n",
              "          google.colab.kernel.accessAllowed ? 'block' : 'none';\n",
              "\n",
              "        async function convertToInteractive(key) {\n",
              "          const element = document.querySelector('#df-39f2d463-13e0-4c2f-a55d-936666c895b4');\n",
              "          const dataTable =\n",
              "            await google.colab.kernel.invokeFunction('convertToInteractive',\n",
              "                                                     [key], {});\n",
              "          if (!dataTable) return;\n",
              "\n",
              "          const docLinkHtml = 'Like what you see? Visit the ' +\n",
              "            '<a target=\"_blank\" href=https://colab.research.google.com/notebooks/data_table.ipynb>data table notebook</a>'\n",
              "            + ' to learn more about interactive tables.';\n",
              "          element.innerHTML = '';\n",
              "          dataTable['output_type'] = 'display_data';\n",
              "          await google.colab.output.renderOutput(dataTable, element);\n",
              "          const docLink = document.createElement('div');\n",
              "          docLink.innerHTML = docLinkHtml;\n",
              "          element.appendChild(docLink);\n",
              "        }\n",
              "      </script>\n",
              "    </div>\n",
              "  </div>\n",
              "  "
            ]
          },
          "metadata": {},
          "execution_count": 16
        }
      ]
    },
    {
      "cell_type": "code",
      "source": [
        "previous_word_idx = None \n",
        "label_ids = [] \n",
        "for word_idx in word_ids: \n",
        "    if word_idx is None or word_idx == previous_word_idx: \n",
        "        label_ids.append(-100) \n",
        "    elif word_idx != previous_word_idx: \n",
        "        label_ids.append(example_tags[word_idx]) \n",
        "    previous_word_idx = word_idx\n",
        "labels = [index2tag[l] if l != -100 else \"IGN\" for l in label_ids] \n",
        "index = [\"Tokens\", \"Word IDs\", \"Label IDs\", \"Labels\"] \n",
        "pd.DataFrame([tokens, word_ids, label_ids, labels], index=index)"
      ],
      "metadata": {
        "id": "eSxUNeA3SDzw",
        "colab": {
          "base_uri": "https://localhost:8080/",
          "height": 320
        },
        "outputId": "1fe758fa-b72d-4b53-c531-0ae6484c203e"
      },
      "execution_count": 17,
      "outputs": [
        {
          "output_type": "execute_result",
          "data": {
            "text/plain": [
              "             0       1           2     3    4     5      6     7     8   \\\n",
              "Tokens      <s>  ▁2.000  ▁Einwohner     n  ▁an  ▁der   ▁Dan    zi   ger   \n",
              "Word IDs   None       0           1     1    2     3      4     4     4   \n",
              "Label IDs  -100       0           0  -100    0     0      5  -100  -100   \n",
              "Labels      IGN       O           O   IGN    O     O  B-LOC   IGN   IGN   \n",
              "\n",
              "              9   ...     15    16    17      18     19    20    21  22    23  \\\n",
              "Tokens     ▁Buch  ...    ▁Wo     i   wod  schaft    ▁Po  mmer     n   ▁     .   \n",
              "Word IDs       5  ...      9     9     9       9     10    10    10  11    11   \n",
              "Label IDs      6  ...      5  -100  -100    -100      6  -100  -100   0  -100   \n",
              "Labels     I-LOC  ...  B-LOC   IGN   IGN     IGN  I-LOC   IGN   IGN   O   IGN   \n",
              "\n",
              "             24  \n",
              "Tokens     </s>  \n",
              "Word IDs   None  \n",
              "Label IDs  -100  \n",
              "Labels      IGN  \n",
              "\n",
              "[4 rows x 25 columns]"
            ],
            "text/html": [
              "\n",
              "  <div id=\"df-e8872d7b-e742-4671-8829-7a169b6dff47\">\n",
              "    <div class=\"colab-df-container\">\n",
              "      <div>\n",
              "<style scoped>\n",
              "    .dataframe tbody tr th:only-of-type {\n",
              "        vertical-align: middle;\n",
              "    }\n",
              "\n",
              "    .dataframe tbody tr th {\n",
              "        vertical-align: top;\n",
              "    }\n",
              "\n",
              "    .dataframe thead th {\n",
              "        text-align: right;\n",
              "    }\n",
              "</style>\n",
              "<table border=\"1\" class=\"dataframe\">\n",
              "  <thead>\n",
              "    <tr style=\"text-align: right;\">\n",
              "      <th></th>\n",
              "      <th>0</th>\n",
              "      <th>1</th>\n",
              "      <th>2</th>\n",
              "      <th>3</th>\n",
              "      <th>4</th>\n",
              "      <th>5</th>\n",
              "      <th>6</th>\n",
              "      <th>7</th>\n",
              "      <th>8</th>\n",
              "      <th>9</th>\n",
              "      <th>...</th>\n",
              "      <th>15</th>\n",
              "      <th>16</th>\n",
              "      <th>17</th>\n",
              "      <th>18</th>\n",
              "      <th>19</th>\n",
              "      <th>20</th>\n",
              "      <th>21</th>\n",
              "      <th>22</th>\n",
              "      <th>23</th>\n",
              "      <th>24</th>\n",
              "    </tr>\n",
              "  </thead>\n",
              "  <tbody>\n",
              "    <tr>\n",
              "      <th>Tokens</th>\n",
              "      <td>&lt;s&gt;</td>\n",
              "      <td>▁2.000</td>\n",
              "      <td>▁Einwohner</td>\n",
              "      <td>n</td>\n",
              "      <td>▁an</td>\n",
              "      <td>▁der</td>\n",
              "      <td>▁Dan</td>\n",
              "      <td>zi</td>\n",
              "      <td>ger</td>\n",
              "      <td>▁Buch</td>\n",
              "      <td>...</td>\n",
              "      <td>▁Wo</td>\n",
              "      <td>i</td>\n",
              "      <td>wod</td>\n",
              "      <td>schaft</td>\n",
              "      <td>▁Po</td>\n",
              "      <td>mmer</td>\n",
              "      <td>n</td>\n",
              "      <td>▁</td>\n",
              "      <td>.</td>\n",
              "      <td>&lt;/s&gt;</td>\n",
              "    </tr>\n",
              "    <tr>\n",
              "      <th>Word IDs</th>\n",
              "      <td>None</td>\n",
              "      <td>0</td>\n",
              "      <td>1</td>\n",
              "      <td>1</td>\n",
              "      <td>2</td>\n",
              "      <td>3</td>\n",
              "      <td>4</td>\n",
              "      <td>4</td>\n",
              "      <td>4</td>\n",
              "      <td>5</td>\n",
              "      <td>...</td>\n",
              "      <td>9</td>\n",
              "      <td>9</td>\n",
              "      <td>9</td>\n",
              "      <td>9</td>\n",
              "      <td>10</td>\n",
              "      <td>10</td>\n",
              "      <td>10</td>\n",
              "      <td>11</td>\n",
              "      <td>11</td>\n",
              "      <td>None</td>\n",
              "    </tr>\n",
              "    <tr>\n",
              "      <th>Label IDs</th>\n",
              "      <td>-100</td>\n",
              "      <td>0</td>\n",
              "      <td>0</td>\n",
              "      <td>-100</td>\n",
              "      <td>0</td>\n",
              "      <td>0</td>\n",
              "      <td>5</td>\n",
              "      <td>-100</td>\n",
              "      <td>-100</td>\n",
              "      <td>6</td>\n",
              "      <td>...</td>\n",
              "      <td>5</td>\n",
              "      <td>-100</td>\n",
              "      <td>-100</td>\n",
              "      <td>-100</td>\n",
              "      <td>6</td>\n",
              "      <td>-100</td>\n",
              "      <td>-100</td>\n",
              "      <td>0</td>\n",
              "      <td>-100</td>\n",
              "      <td>-100</td>\n",
              "    </tr>\n",
              "    <tr>\n",
              "      <th>Labels</th>\n",
              "      <td>IGN</td>\n",
              "      <td>O</td>\n",
              "      <td>O</td>\n",
              "      <td>IGN</td>\n",
              "      <td>O</td>\n",
              "      <td>O</td>\n",
              "      <td>B-LOC</td>\n",
              "      <td>IGN</td>\n",
              "      <td>IGN</td>\n",
              "      <td>I-LOC</td>\n",
              "      <td>...</td>\n",
              "      <td>B-LOC</td>\n",
              "      <td>IGN</td>\n",
              "      <td>IGN</td>\n",
              "      <td>IGN</td>\n",
              "      <td>I-LOC</td>\n",
              "      <td>IGN</td>\n",
              "      <td>IGN</td>\n",
              "      <td>O</td>\n",
              "      <td>IGN</td>\n",
              "      <td>IGN</td>\n",
              "    </tr>\n",
              "  </tbody>\n",
              "</table>\n",
              "<p>4 rows × 25 columns</p>\n",
              "</div>\n",
              "      <button class=\"colab-df-convert\" onclick=\"convertToInteractive('df-e8872d7b-e742-4671-8829-7a169b6dff47')\"\n",
              "              title=\"Convert this dataframe to an interactive table.\"\n",
              "              style=\"display:none;\">\n",
              "        \n",
              "  <svg xmlns=\"http://www.w3.org/2000/svg\" height=\"24px\"viewBox=\"0 0 24 24\"\n",
              "       width=\"24px\">\n",
              "    <path d=\"M0 0h24v24H0V0z\" fill=\"none\"/>\n",
              "    <path d=\"M18.56 5.44l.94 2.06.94-2.06 2.06-.94-2.06-.94-.94-2.06-.94 2.06-2.06.94zm-11 1L8.5 8.5l.94-2.06 2.06-.94-2.06-.94L8.5 2.5l-.94 2.06-2.06.94zm10 10l.94 2.06.94-2.06 2.06-.94-2.06-.94-.94-2.06-.94 2.06-2.06.94z\"/><path d=\"M17.41 7.96l-1.37-1.37c-.4-.4-.92-.59-1.43-.59-.52 0-1.04.2-1.43.59L10.3 9.45l-7.72 7.72c-.78.78-.78 2.05 0 2.83L4 21.41c.39.39.9.59 1.41.59.51 0 1.02-.2 1.41-.59l7.78-7.78 2.81-2.81c.8-.78.8-2.07 0-2.86zM5.41 20L4 18.59l7.72-7.72 1.47 1.35L5.41 20z\"/>\n",
              "  </svg>\n",
              "      </button>\n",
              "      \n",
              "  <style>\n",
              "    .colab-df-container {\n",
              "      display:flex;\n",
              "      flex-wrap:wrap;\n",
              "      gap: 12px;\n",
              "    }\n",
              "\n",
              "    .colab-df-convert {\n",
              "      background-color: #E8F0FE;\n",
              "      border: none;\n",
              "      border-radius: 50%;\n",
              "      cursor: pointer;\n",
              "      display: none;\n",
              "      fill: #1967D2;\n",
              "      height: 32px;\n",
              "      padding: 0 0 0 0;\n",
              "      width: 32px;\n",
              "    }\n",
              "\n",
              "    .colab-df-convert:hover {\n",
              "      background-color: #E2EBFA;\n",
              "      box-shadow: 0px 1px 2px rgba(60, 64, 67, 0.3), 0px 1px 3px 1px rgba(60, 64, 67, 0.15);\n",
              "      fill: #174EA6;\n",
              "    }\n",
              "\n",
              "    [theme=dark] .colab-df-convert {\n",
              "      background-color: #3B4455;\n",
              "      fill: #D2E3FC;\n",
              "    }\n",
              "\n",
              "    [theme=dark] .colab-df-convert:hover {\n",
              "      background-color: #434B5C;\n",
              "      box-shadow: 0px 1px 3px 1px rgba(0, 0, 0, 0.15);\n",
              "      filter: drop-shadow(0px 1px 2px rgba(0, 0, 0, 0.3));\n",
              "      fill: #FFFFFF;\n",
              "    }\n",
              "  </style>\n",
              "\n",
              "      <script>\n",
              "        const buttonEl =\n",
              "          document.querySelector('#df-e8872d7b-e742-4671-8829-7a169b6dff47 button.colab-df-convert');\n",
              "        buttonEl.style.display =\n",
              "          google.colab.kernel.accessAllowed ? 'block' : 'none';\n",
              "\n",
              "        async function convertToInteractive(key) {\n",
              "          const element = document.querySelector('#df-e8872d7b-e742-4671-8829-7a169b6dff47');\n",
              "          const dataTable =\n",
              "            await google.colab.kernel.invokeFunction('convertToInteractive',\n",
              "                                                     [key], {});\n",
              "          if (!dataTable) return;\n",
              "\n",
              "          const docLinkHtml = 'Like what you see? Visit the ' +\n",
              "            '<a target=\"_blank\" href=https://colab.research.google.com/notebooks/data_table.ipynb>data table notebook</a>'\n",
              "            + ' to learn more about interactive tables.';\n",
              "          element.innerHTML = '';\n",
              "          dataTable['output_type'] = 'display_data';\n",
              "          await google.colab.output.renderOutput(dataTable, element);\n",
              "          const docLink = document.createElement('div');\n",
              "          docLink.innerHTML = docLinkHtml;\n",
              "          element.appendChild(docLink);\n",
              "        }\n",
              "      </script>\n",
              "    </div>\n",
              "  </div>\n",
              "  "
            ]
          },
          "metadata": {},
          "execution_count": 17
        }
      ]
    },
    {
      "cell_type": "code",
      "source": [
        "def tokenize_and_align_labels(examples): \n",
        "    tokenized_inputs = xlmr_tokenizer(examples[\"tokens\"], truncation=True, is_split_into_words=True) \n",
        "    labels = [] \n",
        "    for idx, label in enumerate(examples[\"ner_tags\"]): \n",
        "        word_ids = tokenized_inputs.word_ids(batch_index=idx) \n",
        "        previous_word_idx = None\n",
        "        label_ids = []\n",
        "        for word_idx in word_ids: \n",
        "            if word_idx is None or word_idx == previous_word_idx: \n",
        "                label_ids.append(-100) \n",
        "            else: \n",
        "                label_ids.append(label[word_idx]) \n",
        "            previous_word_idx = word_idx \n",
        "        labels.append(label_ids) \n",
        "    tokenized_inputs[\"labels\"] = labels \n",
        "    return tokenized_inputs\n",
        "\n",
        "def encode_panx_dataset(corpus): \n",
        "    return corpus.map(tokenize_and_align_labels, batched=True, remove_columns=['langs', 'ner_tags', 'tokens'])"
      ],
      "metadata": {
        "id": "WLmk6iG6UfPm"
      },
      "execution_count": 18,
      "outputs": []
    },
    {
      "cell_type": "code",
      "source": [
        "panx_de_encoded = encode_panx_dataset(panx_ch[\"de\"])"
      ],
      "metadata": {
        "id": "eNqjxMZ4Vo7i",
        "colab": {
          "base_uri": "https://localhost:8080/",
          "height": 104,
          "referenced_widgets": [
            "d4e0aaa73e414bb6a1aec8fcb8eb7306",
            "6312b9aefd494c1f88d7f52aa3ea81a9",
            "5243e6c86a5e4900ac53067b335fe03e",
            "f84caccc4ea94ae88853ec11844a776e",
            "0ee1204b58b345eaad7e1306e8d07c34",
            "036b489787874d398f2c21eefae7b14b",
            "0268b62393d54d32b1098b723eda50e3",
            "dc2e58d95e2942b88cb0f377aec42e11",
            "ab1886b4e30b4414b7de42b6101adc49",
            "8b7c0a3f431e4fb9b32055d239110870",
            "dba6ea2e3aa84cd586b374831ee16ca5"
          ]
        },
        "outputId": "4fc49618-65af-4429-9d70-add1b2e49369"
      },
      "execution_count": 19,
      "outputs": [
        {
          "output_type": "stream",
          "name": "stderr",
          "text": [
            "Loading cached processed dataset at /root/.cache/huggingface/datasets/xtreme/PAN-X.de/1.0.0/349258adc25bb45e47de193222f95e68a44f7a7ab53c4283b3f007208a11bf7e/cache-9592d6ed574a990c.arrow\n"
          ]
        },
        {
          "output_type": "display_data",
          "data": {
            "text/plain": [
              "  0%|          | 0/2 [00:00<?, ?ba/s]"
            ],
            "application/vnd.jupyter.widget-view+json": {
              "version_major": 2,
              "version_minor": 0,
              "model_id": "d4e0aaa73e414bb6a1aec8fcb8eb7306"
            }
          },
          "metadata": {}
        },
        {
          "output_type": "stream",
          "name": "stderr",
          "text": [
            "Loading cached processed dataset at /root/.cache/huggingface/datasets/xtreme/PAN-X.de/1.0.0/349258adc25bb45e47de193222f95e68a44f7a7ab53c4283b3f007208a11bf7e/cache-6586ab7b5c000571.arrow\n"
          ]
        }
      ]
    },
    {
      "cell_type": "code",
      "source": [
        "y_true = [[\"O\", \"O\", \"O\", \"B-MISC\", \"I-MISC\", \"I-MISC\", \"O\"], [\"B-PER\", \"I-PER\", \"O\"]] \n",
        "y_pred = [[\"O\", \"O\", \"B-MISC\", \"I-MISC\", \"I-MISC\", \"I-MISC\", \"O\"], [\"B-PER\", \"I-PER\", \"O\"]] \n",
        "print(classification_report(y_true, y_pred))\n",
        "\n",
        "def align_predictions(predictions, label_ids): \n",
        "    preds = np.argmax(predictions, axis=2) \n",
        "    batch_size, seq_len = preds.shape \n",
        "    labels_list, preds_list = [], [] \n",
        "    for batch_idx in range(batch_size): \n",
        "        example_labels, example_preds = [], [] \n",
        "        for seq_idx in range(seq_len): \n",
        "            # Ignore label IDs = -100 \n",
        "            if label_ids[batch_idx, seq_idx] != -100: \n",
        "                example_labels.append(index2tag[label_ids[batch_idx] [seq_idx]]) \n",
        "                example_preds.append(index2tag[preds[batch_idx][seq_idx]]) \n",
        "            labels_list.append(example_labels) \n",
        "            preds_list.append(example_preds) \n",
        "    return preds_list, labels_list\n",
        "\n",
        "def compute_metrics(eval_pred):\n",
        "    y_pred, y_true = align_predictions(eval_pred.predictions, eval_pred.label_ids)\n",
        "    return {\"f1\": f1_score(y_true, y_pred)}"
      ],
      "metadata": {
        "id": "AYwMeA1PVqxP",
        "colab": {
          "base_uri": "https://localhost:8080/"
        },
        "outputId": "c3460c46-dbe7-4a4c-ece2-2709f301f7d3"
      },
      "execution_count": 20,
      "outputs": [
        {
          "output_type": "stream",
          "name": "stdout",
          "text": [
            "              precision    recall  f1-score   support\n",
            "\n",
            "        MISC       0.00      0.00      0.00         1\n",
            "         PER       1.00      1.00      1.00         1\n",
            "\n",
            "   micro avg       0.50      0.50      0.50         2\n",
            "   macro avg       0.50      0.50      0.50         2\n",
            "weighted avg       0.50      0.50      0.50         2\n",
            "\n"
          ]
        }
      ]
    },
    {
      "cell_type": "code",
      "source": [
        "num_epochs = 3 \n",
        "batch_size = 24 \n",
        "logging_steps = len(panx_de_encoded[\"train\"]) // batch_size \n",
        "model_name = f\"{xlmr_model_name}-finetuned-panx-de\" \n",
        "training_args = TrainingArguments(output_dir=model_name, \n",
        "                                  log_level=\"error\", \n",
        "                                  num_train_epochs=num_epochs, \n",
        "                                  per_device_train_batch_size=batch_size, \n",
        "                                  per_device_eval_batch_size=batch_size, \n",
        "                                  evaluation_strategy=\"epoch\", \n",
        "                                  save_steps=1e6, \n",
        "                                  weight_decay=0.01, \n",
        "                                  disable_tqdm=False, \n",
        "                                  logging_steps=logging_steps, \n",
        "                                  push_to_hub=False)"
      ],
      "metadata": {
        "id": "XtQN8_FSXP2T"
      },
      "execution_count": 21,
      "outputs": []
    },
    {
      "cell_type": "code",
      "source": [
        "def model_init():\n",
        "    return XLMRobertaForTokenClassification.from_pretrained(xlmr_model_name, config=xlmr_config).to(device)\n",
        "\n",
        "trainer = Trainer(model_init=model_init, \n",
        "                  args=training_args, \n",
        "                  data_collator=DataCollatorForTokenClassification(xlmr_tokenizer), \n",
        "                  compute_metrics=compute_metrics, \n",
        "                  train_dataset=panx_de_encoded[\"train\"], \n",
        "                  eval_dataset=panx_de_encoded[\"validation\"], \n",
        "                  tokenizer=xlmr_tokenizer)\n",
        "\n",
        "trainer.train()\n",
        "print(\"Training completed!\")"
      ],
      "metadata": {
        "id": "uWrY84H_ZOd_",
        "colab": {
          "base_uri": "https://localhost:8080/",
          "height": 75
        },
        "outputId": "ade239f4-a531-4755-93c8-1a5f084092ea"
      },
      "execution_count": null,
      "outputs": [
        {
          "output_type": "display_data",
          "data": {
            "text/plain": [
              "<IPython.core.display.HTML object>"
            ],
            "text/html": [
              "\n",
              "    <div>\n",
              "      \n",
              "      <progress value='55' max='396' style='width:300px; height:20px; vertical-align: middle;'></progress>\n",
              "      [ 55/396 13:23 < 1:26:09, 0.07 it/s, Epoch 0.41/3]\n",
              "    </div>\n",
              "    <table border=\"1\" class=\"dataframe\">\n",
              "  <thead>\n",
              " <tr style=\"text-align: left;\">\n",
              "      <th>Epoch</th>\n",
              "      <th>Training Loss</th>\n",
              "      <th>Validation Loss</th>\n",
              "    </tr>\n",
              "  </thead>\n",
              "  <tbody>\n",
              "  </tbody>\n",
              "</table><p>"
            ]
          },
          "metadata": {}
        }
      ]
    },
    {
      "cell_type": "code",
      "source": [
        "print('tags to predict', tags)\n",
        "text_de = \"Jeff Dean ist ein Informatiker bei Google in Kalifornien\" \n",
        "tag_text(text_de, tags, trainer.model, xlmr_tokenizer)\n",
        "text_fr = \"Jeff Dean est informaticien chez Google en Californie\" \n",
        "tag_text(text_fr, tags, trainer.model, xlmr_tokenizer)"
      ],
      "metadata": {
        "id": "9qXssNnmZrVv"
      },
      "execution_count": null,
      "outputs": []
    },
    {
      "cell_type": "code",
      "source": [
        "data_collator = DataCollatorForTokenClassification(xlmr_tokenizer)\n",
        "\n",
        "def forward_pass_with_label(batch): \n",
        "    # Convert dict of lists to list of dicts suitable for data collator \n",
        "    features = [dict(zip(batch, t)) for t in zip(*batch.values())] \n",
        "    # Pad inputs and labels and put all tensors on device \n",
        "    batch = data_collator(features) \n",
        "    input_ids = batch[\"input_ids\"].to(device) \n",
        "    attention_mask = batch[\"attention_mask\"].to(device) \n",
        "    labels = batch[\"labels\"].to(device) \n",
        "    with torch.no_grad(): \n",
        "        # Pass data through model \n",
        "        output = trainer.model(input_ids, attention_mask) \n",
        "        # logit.size: [batch_size, sequence_length, classes] \n",
        "        # Predict class with largest logit value on classes axis \n",
        "        predicted_label = torch.argmax(output.logits, axis=-1).cpu().numpy()\n",
        "    # Calculate loss per token after flattening batch dimension with view \n",
        "    loss = cross_entropy(output.logits.view(-1, 7), labels.view(-1), reduction=\"none\")\n",
        "    # Unflatten batch dimension and convert to numpy array\n",
        "    loss = loss.view(len(input_ids), -1).cpu().numpy() \n",
        "    return {\"loss\":loss, \"predicted_label\": predicted_label}"
      ],
      "metadata": {
        "id": "eD2UBjUN2DVt"
      },
      "execution_count": null,
      "outputs": []
    },
    {
      "cell_type": "code",
      "source": [
        "valid_set = panx_de_encoded[\"validation\"] \n",
        "valid_set = valid_set.map(forward_pass_with_label, batched=True, batch_size=32) "
      ],
      "metadata": {
        "id": "RjHvTT1B6iCq"
      },
      "execution_count": null,
      "outputs": []
    },
    {
      "cell_type": "code",
      "source": [
        "index2tag[-100] = \"IGN\" \n",
        "df = valid_set.to_pandas()\n",
        "df[\"input_tokens\"] = df[\"input_ids\"].apply( lambda x: xlmr_tokenizer.convert_ids_to_tokens(x)) \n",
        "df[\"predicted_label\"] = df[\"predicted_label\"].apply( lambda x: [index2tag[i] for i in x]) \n",
        "df[\"labels\"] = df[\"labels\"].apply( lambda x: [index2tag[i] for i in x]) \n",
        "df['loss'] = df.apply( lambda x: x['loss'][:len(x['input_ids'])], axis=1) \n",
        "df['predicted_label'] = df.apply( lambda x: x['predicted_label'][:len(x['input_ids'])], axis=1) \n",
        "df.head(5)"
      ],
      "metadata": {
        "id": "D2JZ6noH6o5a"
      },
      "execution_count": null,
      "outputs": []
    },
    {
      "cell_type": "code",
      "source": [
        "df_tokens = df.apply(pd.Series.explode) \n",
        "df_tokens = df_tokens.query(\"labels != 'IGN'\") \n",
        "df_tokens[\"loss\"] = df_tokens[\"loss\"].astype(float).round(2) \n",
        "df_tokens.head(20)\n"
      ],
      "metadata": {
        "id": "W-eI1LWY7Cu0"
      },
      "execution_count": null,
      "outputs": []
    },
    {
      "cell_type": "code",
      "source": [
        "( \n",
        "df_tokens.groupby(\"input_tokens\")[[\"loss\"]] \n",
        ".agg([\"count\", \"mean\", \"sum\"]) \n",
        ".droplevel(level=0, axis=1) \n",
        "# Get rid of multi-level columns \n",
        ".sort_values(by=\"sum\", ascending=False) \n",
        "#.reset_index() \n",
        ".round(2) \n",
        ".head(10) \n",
        ".T \n",
        ")"
      ],
      "metadata": {
        "id": "1cynV_J99O8q"
      },
      "execution_count": null,
      "outputs": []
    },
    {
      "cell_type": "code",
      "source": [
        "( \n",
        "df_tokens.groupby(\"labels\")[[\"loss\"]] \n",
        ".agg([\"count\", \"mean\", \"sum\"]) \n",
        ".droplevel(level=0, axis=1) \n",
        ".sort_values(by=\"mean\", ascending=False) \n",
        "#.reset_index() \n",
        ".round(2) \n",
        ".T \n",
        ")"
      ],
      "metadata": {
        "id": "Blr7crSV9qPM"
      },
      "execution_count": null,
      "outputs": []
    },
    {
      "cell_type": "code",
      "source": [
        "def plot_confusion_matrix(y_preds, y_true, labels): \n",
        "    cm = confusion_matrix(y_true, y_preds, normalize=\"true\") \n",
        "    fig, ax = plt.subplots(figsize=(6, 6)) \n",
        "    disp = ConfusionMatrixDisplay(confusion_matrix=cm, display_labels=labels) \n",
        "    disp.plot(cmap=\"Blues\", values_format=\".2f\", ax=ax, colorbar=False) \n",
        "    plt.title(\"Normalized confusion matrix\") \n",
        "    plt.show() "
      ],
      "metadata": {
        "id": "-l1f3Ude_4U9"
      },
      "execution_count": null,
      "outputs": []
    },
    {
      "cell_type": "code",
      "source": [
        "plot_confusion_matrix(df_tokens[\"labels\"], df_tokens[\"predicted_label\"], tags.names)"
      ],
      "metadata": {
        "id": "JLjAtz5zAjmA"
      },
      "execution_count": null,
      "outputs": []
    },
    {
      "cell_type": "code",
      "source": [
        "# error analysis\n",
        "def get_samples(df):\n",
        "    for _, row in df.iterrows():\n",
        "        labels, predictions, tokens, losses = [], [], [], []\n",
        "        print(row['attention_mask'], len(row['attention_mask']))\n",
        "        for i, mask in enumerate(row['attention_mask']):\n",
        "            if i == 0 or i == len(row['attention_mask']):\n",
        "                continue\n",
        "            labels.append(row['labels'][i])\n",
        "            predictions.append(row['predicted_label'][i])\n",
        "            tokens.append(row['input_tokens'][i])\n",
        "            losses.append(round(row['loss'][i], 3))\n",
        "        yield pd.DataFrame({'label': labels, 'prediction': predictions, 'tokens': tokens, 'losses': losses}).T"
      ],
      "metadata": {
        "id": "-N5DwH_DBsup"
      },
      "execution_count": null,
      "outputs": []
    },
    {
      "cell_type": "code",
      "source": [
        "df['total_loss'] = df['loss'].apply(sum)\n",
        "df_tmp = df.sort_values(by='total_loss', ascending=False).head(5)\n",
        "\n",
        "for sample in get_samples(df_tmp):\n",
        "    display(sample)"
      ],
      "metadata": {
        "id": "OwKue_KgKeiq"
      },
      "execution_count": null,
      "outputs": []
    },
    {
      "cell_type": "code",
      "source": [
        "df_tmp = df.loc[df[\"input_tokens\"].apply(lambda x: u\"\\u2581(\" in x)].head(5) \n",
        "for sample in get_samples(df_tmp): \n",
        "    display(sample)"
      ],
      "metadata": {
        "id": "-n1KmrSNK-2K"
      },
      "execution_count": null,
      "outputs": []
    },
    {
      "cell_type": "code",
      "source": [
        "def get_f1_score(trainer, dataset): \n",
        "    return trainer.predict(dataset).metrics[\"test_f1\"]"
      ],
      "metadata": {
        "id": "q9-4g5c3Lr5q"
      },
      "execution_count": null,
      "outputs": []
    },
    {
      "cell_type": "code",
      "source": [
        "f1_scores = defaultdict(dict) \n",
        "f1_scores[\"de\"][\"de\"] = get_f1_score(trainer, panx_de_encoded[\"test\"]) \n",
        "print(f\"F1-score of [de] model on [de] dataset: {f1_scores['de']['de']:.3f}\")"
      ],
      "metadata": {
        "id": "casdC3PAMEs0"
      },
      "execution_count": null,
      "outputs": []
    },
    {
      "cell_type": "code",
      "source": [
        "def evaluate_lang_performance(lang, trainer):\n",
        "    panx_ds = encode_panx_dataset(panx_ch[lang]) \n",
        "    return get_f1_score(trainer, panx_ds[\"test\"])\n",
        "f1_scores = defaultdict(dict)\n",
        "for lang in ['de', 'fr', 'it', 'en']:\n",
        "    f1_scores[\"de\"][lang] = evaluate_lang_performance(lang, trainer) \n",
        "    print(f\"F1-score of [de] model on [{lang}] dataset: {f1_scores['de'][lang]:.3f}\") "
      ],
      "metadata": {
        "id": "hunT7gvTMIlf"
      },
      "execution_count": null,
      "outputs": []
    },
    {
      "cell_type": "code",
      "source": [
        "def train_on_subset(dataset, num_samples): \n",
        "    train_ds = dataset[\"train\"].shuffle(seed=42).select(range(num_samples)) \n",
        "    valid_ds = dataset[\"validation\"] \n",
        "    test_ds = dataset[\"test\"]\n",
        "    training_args.logging_steps = len(train_ds) // batch_size \n",
        "    trainer = Trainer(model_init=model_init, \n",
        "                      args=training_args, \n",
        "                      data_collator=data_collator, \n",
        "                      compute_metrics=compute_metrics, \n",
        "                      train_dataset=train_ds, \n",
        "                      eval_dataset=valid_ds, \n",
        "                      tokenizer=xlmr_tokenizer) \n",
        "    trainer.train() \n",
        "    if training_args.push_to_hub: \n",
        "        trainer.push_to_hub(commit_message=\"Training completed!\") \n",
        "    f1_score = get_f1_score(trainer, test_ds) \n",
        "    return pd.DataFrame.from_dict( {\"num_samples\": [len(train_ds)], \"f1_score\": [f1_score]})"
      ],
      "metadata": {
        "id": "3wVa3JxANMd3"
      },
      "execution_count": null,
      "outputs": []
    },
    {
      "cell_type": "code",
      "source": [
        "panx_fr_encoded = encode_panx_dataset(panx_ch[\"fr\"])\n",
        "panx_it_encoded = encode_panx_dataset(panx_ch[\"it\"])\n",
        "panx_en_encoded = encode_panx_dataset(panx_ch[\"en\"])"
      ],
      "metadata": {
        "id": "LZ6wt4elN6yT"
      },
      "execution_count": null,
      "outputs": []
    },
    {
      "cell_type": "code",
      "source": [
        "metrics_df = pd.DataFrame()\n",
        "for num_samples in [200, 500, 1000, 1500, 2000]: \n",
        "    metrics_df = metrics_df.append( train_on_subset(panx_fr_encoded, num_samples), ignore_index=True)\n",
        "fig, ax = plt.subplots() \n",
        "ax.axhline(f1_scores[\"de\"][\"fr\"], ls=\"--\", color=\"r\") \n",
        "metrics_df.set_index(\"num_samples\").plot(ax=ax) \n",
        "plt.legend([\"Zero-shot from de\", \"Fine-tuned on fr\"], loc=\"lower right\")\n",
        "plt.ylim((0, 1)) \n",
        "plt.xlabel(\"Number of Training Samples\") \n",
        "plt.ylabel(\"F1 Score\") \n",
        "plt.show()\n"
      ],
      "metadata": {
        "id": "Ea6myYJNOGGG"
      },
      "execution_count": null,
      "outputs": []
    },
    {
      "cell_type": "code",
      "source": [
        "def concatenate_splits(corpora): \n",
        "    multi_corpus = DatasetDict() \n",
        "    for split in corpora[0].keys(): \n",
        "        multi_corpus[split] = concatenate_datasets( [corpus[split] for corpus in corpora]).shuffle(seed=42) \n",
        "    return multi_corpus "
      ],
      "metadata": {
        "id": "t_Rj-AGWOhoP"
      },
      "execution_count": null,
      "outputs": []
    },
    {
      "cell_type": "code",
      "source": [
        "panx_all_encoded = concatenate_splits([panx_de_encoded, panx_fr_encoded])\n",
        "training_args.logging_steps = len(panx_all_encoded[\"train\"]) // batch_size \n",
        "training_args.push_to_hub = False \n",
        "training_args.output_dir = \"xlm-roberta-base-finetuned-panx-de-fr\" \n",
        "trainer = Trainer(model_init=model_init, \n",
        "                  args=training_args, \n",
        "                  data_collator=data_collator, \n",
        "                  compute_metrics=compute_metrics, \n",
        "                  tokenizer=xlmr_tokenizer, \n",
        "                  train_dataset=panx_all_encoded[\"train\"], \n",
        "                  eval_dataset=panx_all_encoded[\"validation\"])\n",
        "trainer.train()"
      ],
      "metadata": {
        "id": "RJQfELa6z2TR"
      },
      "execution_count": null,
      "outputs": []
    },
    {
      "cell_type": "code",
      "source": [
        "for lang in ['de', 'fr', 'it', 'en']:\n",
        "    f1_scores[\"de_fr\"][lang] = evaluate_lang_performance(lang, trainer) \n",
        "    print(f\"F1-score of [de_fr] model on [{lang}] dataset: {f1_scores['de_fr'][lang]:.3f}\")"
      ],
      "metadata": {
        "id": "qLKoPClO0ifM"
      },
      "execution_count": null,
      "outputs": []
    },
    {
      "cell_type": "code",
      "source": [
        "corpora = [panx_de_encoded] \n",
        "# Exclude German from iteration \n",
        "for lang in langs[1:]: \n",
        "    training_args.output_dir = f\"xlm-roberta-base-finetuned-panx-{lang}\" \n",
        "    # Fine-tune on monolingual corpus \n",
        "    ds_encoded = encode_panx_dataset(panx_ch[lang]) \n",
        "    metrics = train_on_subset(ds_encoded, ds_encoded[\"train\"].num_rows) \n",
        "    # Collect F1-scores in common dict \n",
        "    f1_scores[lang][lang] = metrics[\"f1_score\"][0]\n",
        "    # Add monolingual corpus to list of corpora to concatenate \n",
        "    corpora.append(ds_encoded)"
      ],
      "metadata": {
        "id": "ahLUKOeicxVy"
      },
      "execution_count": null,
      "outputs": []
    },
    {
      "cell_type": "code",
      "source": [
        "corpora_encoded = concatenate_splits(corpora)"
      ],
      "metadata": {
        "id": "e3GtsziEfoam"
      },
      "execution_count": null,
      "outputs": []
    },
    {
      "cell_type": "code",
      "source": [
        "training_args.logging_steps = len(corpora_encoded[\"train\"]) // batch_size \n",
        "training_args.output_dir = \"xlm-roberta-base-finetuned-panx-all\"\n",
        "trainer = Trainer(model_init=model_init, args=training_args, data_collator=data_collator, compute_metrics=compute_metrics, tokenizer=xlmr_tokenizer, train_dataset=corpora_encoded[\"train\"], eval_dataset=corpora_encoded[\"validation\"]) \n",
        "trainer.train() "
      ],
      "metadata": {
        "id": "WrUjaDWIfskX"
      },
      "execution_count": null,
      "outputs": []
    },
    {
      "cell_type": "code",
      "source": [
        "for idx, lang in enumerate(langs): \n",
        "    f1_scores[\"all\"][lang] = get_f1_score(trainer, corpora[idx][\"test\"]) \n",
        "scores_data = {\"de\": f1_scores[\"de\"], \"each\": {lang: f1_scores[lang][lang] for lang in langs}, \"all\": f1_scores[\"all\"]} \n",
        "f1_scores_df = pd.DataFrame(scores_data).T.round(4) \n",
        "f1_scores_df.rename_axis(index=\"Fine-tune on\", columns=\"Evaluated on\", inplace=True)\n"
      ],
      "metadata": {
        "id": "oUScGRbpf_bx"
      },
      "execution_count": null,
      "outputs": []
    }
  ]
}