{
  "nbformat": 4,
  "nbformat_minor": 0,
  "metadata": {
    "colab": {
      "name": "ch5.ipynb",
      "provenance": [],
      "collapsed_sections": [],
      "authorship_tag": "ABX9TyMrw68S40c4Y3DN50yw8wJf",
      "include_colab_link": true
    },
    "kernelspec": {
      "name": "python3",
      "display_name": "Python 3"
    },
    "language_info": {
      "name": "python"
    },
    "widgets": {
      "application/vnd.jupyter.widget-state+json": {
        "48e089d81c17498c83a671e8289ad9d6": {
          "model_module": "@jupyter-widgets/controls",
          "model_name": "HBoxModel",
          "model_module_version": "1.5.0",
          "state": {
            "_dom_classes": [],
            "_model_module": "@jupyter-widgets/controls",
            "_model_module_version": "1.5.0",
            "_model_name": "HBoxModel",
            "_view_count": null,
            "_view_module": "@jupyter-widgets/controls",
            "_view_module_version": "1.5.0",
            "_view_name": "HBoxView",
            "box_style": "",
            "children": [
              "IPY_MODEL_982405a27b6c459596dafc46470f2a52",
              "IPY_MODEL_0b4efd172e8f4feda4d839ba7e937208",
              "IPY_MODEL_fb9270ea71354f80b7c8b1ad4fca217b"
            ],
            "layout": "IPY_MODEL_4d9d85dc434c4330bb9a867da63bb748"
          }
        },
        "b2269d41c7ca4b54855f34d4a3748a94": {
          "model_module": "@jupyter-widgets/controls",
          "model_name": "HBoxModel",
          "model_module_version": "1.5.0",
          "state": {
            "_dom_classes": [],
            "_model_module": "@jupyter-widgets/controls",
            "_model_module_version": "1.5.0",
            "_model_name": "HBoxModel",
            "_view_count": null,
            "_view_module": "@jupyter-widgets/controls",
            "_view_module_version": "1.5.0",
            "_view_name": "HBoxView",
            "box_style": "",
            "children": [
              "IPY_MODEL_fa2a711e02be4d78a952ee4a6fcd4848",
              "IPY_MODEL_2e358c672b5948efb6dad617c340015c",
              "IPY_MODEL_eb7f211fa80145699fb7ae57670cb256"
            ],
            "layout": "IPY_MODEL_476a0980df484a93bf49ea81364cf4ad"
          }
        },
        "b9c479f68a0d4f91b58c181c6f56f1e3": {
          "model_module": "@jupyter-widgets/controls",
          "model_name": "HBoxModel",
          "model_module_version": "1.5.0",
          "state": {
            "_dom_classes": [],
            "_model_module": "@jupyter-widgets/controls",
            "_model_module_version": "1.5.0",
            "_model_name": "HBoxModel",
            "_view_count": null,
            "_view_module": "@jupyter-widgets/controls",
            "_view_module_version": "1.5.0",
            "_view_name": "HBoxView",
            "box_style": "",
            "children": [
              "IPY_MODEL_9c44639a6edc45589ac66e2bfcbd2e11",
              "IPY_MODEL_87efd98a4aac4b3fa936476065e8fcd8",
              "IPY_MODEL_684467cc1c8a4deeae67de558cb8ecc9"
            ],
            "layout": "IPY_MODEL_1d0015caed1e4d9bb27f2cb1e5ac5456"
          }
        },
        "320c2f3e807c4c2c8d7758d8aca1457a": {
          "model_module": "@jupyter-widgets/controls",
          "model_name": "HBoxModel",
          "model_module_version": "1.5.0",
          "state": {
            "_dom_classes": [],
            "_model_module": "@jupyter-widgets/controls",
            "_model_module_version": "1.5.0",
            "_model_name": "HBoxModel",
            "_view_count": null,
            "_view_module": "@jupyter-widgets/controls",
            "_view_module_version": "1.5.0",
            "_view_name": "HBoxView",
            "box_style": "",
            "children": [
              "IPY_MODEL_79ef0cc52f734699b2e723493ababba6",
              "IPY_MODEL_13a943359d87403aa7fcf690bdec287f",
              "IPY_MODEL_a490a4461bd043938ba5200726f409df"
            ],
            "layout": "IPY_MODEL_b1187c1b6386483bb2656ed68c3e395d"
          }
        },
        "b3c19a8958124fabb084289a04128054": {
          "model_module": "@jupyter-widgets/controls",
          "model_name": "HBoxModel",
          "model_module_version": "1.5.0",
          "state": {
            "_dom_classes": [],
            "_model_module": "@jupyter-widgets/controls",
            "_model_module_version": "1.5.0",
            "_model_name": "HBoxModel",
            "_view_count": null,
            "_view_module": "@jupyter-widgets/controls",
            "_view_module_version": "1.5.0",
            "_view_name": "HBoxView",
            "box_style": "",
            "children": [
              "IPY_MODEL_d38d7ef4045e4cf9886b754be762922d",
              "IPY_MODEL_e6a1861b86114185967a844c19190bb5",
              "IPY_MODEL_3b2a174d9b6e407b8fac31472ab1b23a"
            ],
            "layout": "IPY_MODEL_db99d4af4a0641d0a2e3d9bd64c8e574"
          }
        }
      }
    }
  },
  "cells": [
    {
      "cell_type": "markdown",
      "metadata": {
        "id": "view-in-github",
        "colab_type": "text"
      },
      "source": [
        "<a href=\"https://colab.research.google.com/github/tilaboy/nlp_transformer_tutorial/blob/main/learning_notes/ch5.ipynb\" target=\"_parent\"><img src=\"https://colab.research.google.com/assets/colab-badge.svg\" alt=\"Open In Colab\"/></a>"
      ]
    },
    {
      "cell_type": "code",
      "execution_count": 1,
      "metadata": {
        "id": "KaoXYGyA2nq_",
        "colab": {
          "base_uri": "https://localhost:8080/"
        },
        "outputId": "2bc04c8d-36ca-4753-d959-45539457db72"
      },
      "outputs": [
        {
          "output_type": "stream",
          "name": "stdout",
          "text": [
            "\u001b[K     |████████████████████████████████| 342 kB 4.2 MB/s \n",
            "\u001b[K     |████████████████████████████████| 1.1 MB 51.7 MB/s \n",
            "\u001b[K     |████████████████████████████████| 84 kB 2.8 MB/s \n",
            "\u001b[K     |████████████████████████████████| 212 kB 50.9 MB/s \n",
            "\u001b[K     |████████████████████████████████| 136 kB 43.7 MB/s \n",
            "\u001b[K     |████████████████████████████████| 127 kB 43.0 MB/s \n",
            "\u001b[K     |████████████████████████████████| 94 kB 798 kB/s \n",
            "\u001b[K     |████████████████████████████████| 144 kB 60.3 MB/s \n",
            "\u001b[K     |████████████████████████████████| 271 kB 58.0 MB/s \n",
            "\u001b[31mERROR: pip's dependency resolver does not currently take into account all the packages that are installed. This behaviour is the source of the following dependency conflicts.\n",
            "datascience 0.10.6 requires folium==0.2.1, but you have folium 0.8.3 which is incompatible.\u001b[0m\n",
            "\u001b[K     |████████████████████████████████| 4.2 MB 4.4 MB/s \n",
            "\u001b[K     |████████████████████████████████| 596 kB 35.1 MB/s \n",
            "\u001b[K     |████████████████████████████████| 6.6 MB 40.4 MB/s \n",
            "\u001b[?25h"
          ]
        }
      ],
      "source": [
        "!pip install datasets --quiet\n",
        "!pip install transformers --quiet\n",
        "!pip install pandas --quiet\n",
        "!pip install numpy --quiet\n",
        "!pip install torch --quiet"
      ]
    },
    {
      "cell_type": "code",
      "source": [
        "import torch \n",
        "from transformers import AutoTokenizer, AutoModelForCausalLM\n",
        "import pandas as pd\n",
        "import numpy as np"
      ],
      "metadata": {
        "id": "UJ8CCwtk3yUH"
      },
      "execution_count": 2,
      "outputs": []
    },
    {
      "cell_type": "code",
      "source": [
        "device = \"cuda\" if torch.cuda.is_available() else \"cpu\" \n",
        "model_name = \"gpt2-medium\" \n",
        "tokenizer = AutoTokenizer.from_pretrained(model_name) \n",
        "model = AutoModelForCausalLM.from_pretrained(model_name).to(device)"
      ],
      "metadata": {
        "colab": {
          "base_uri": "https://localhost:8080/",
          "height": 17,
          "referenced_widgets": [
            "48e089d81c17498c83a671e8289ad9d6",
            "b2269d41c7ca4b54855f34d4a3748a94",
            "b9c479f68a0d4f91b58c181c6f56f1e3",
            "320c2f3e807c4c2c8d7758d8aca1457a",
            "b3c19a8958124fabb084289a04128054"
          ]
        },
        "id": "vb1eXtFq4kmQ",
        "outputId": "d55596c1-2008-4107-86fb-5ed698c9fa2c"
      },
      "execution_count": 3,
      "outputs": [
        {
          "output_type": "display_data",
          "data": {
            "text/plain": [
              "Downloading:   0%|          | 0.00/718 [00:00<?, ?B/s]"
            ],
            "application/vnd.jupyter.widget-view+json": {
              "version_major": 2,
              "version_minor": 0,
              "model_id": "48e089d81c17498c83a671e8289ad9d6"
            }
          },
          "metadata": {}
        },
        {
          "output_type": "display_data",
          "data": {
            "text/plain": [
              "Downloading:   0%|          | 0.00/0.99M [00:00<?, ?B/s]"
            ],
            "application/vnd.jupyter.widget-view+json": {
              "version_major": 2,
              "version_minor": 0,
              "model_id": "b2269d41c7ca4b54855f34d4a3748a94"
            }
          },
          "metadata": {}
        },
        {
          "output_type": "display_data",
          "data": {
            "text/plain": [
              "Downloading:   0%|          | 0.00/446k [00:00<?, ?B/s]"
            ],
            "application/vnd.jupyter.widget-view+json": {
              "version_major": 2,
              "version_minor": 0,
              "model_id": "b9c479f68a0d4f91b58c181c6f56f1e3"
            }
          },
          "metadata": {}
        },
        {
          "output_type": "display_data",
          "data": {
            "text/plain": [
              "Downloading:   0%|          | 0.00/1.29M [00:00<?, ?B/s]"
            ],
            "application/vnd.jupyter.widget-view+json": {
              "version_major": 2,
              "version_minor": 0,
              "model_id": "320c2f3e807c4c2c8d7758d8aca1457a"
            }
          },
          "metadata": {}
        },
        {
          "output_type": "display_data",
          "data": {
            "text/plain": [
              "Downloading:   0%|          | 0.00/1.42G [00:00<?, ?B/s]"
            ],
            "application/vnd.jupyter.widget-view+json": {
              "version_major": 2,
              "version_minor": 0,
              "model_id": "b3c19a8958124fabb084289a04128054"
            }
          },
          "metadata": {}
        }
      ]
    },
    {
      "cell_type": "code",
      "source": [
        "input_txt = \"this zoo has introduced\" \n",
        "input_ids = tokenizer(input_txt, return_tensors=\"pt\")[\"input_ids\"].to(device)\n",
        "iterations = [] \n",
        "n_steps = 8 \n",
        "choices_per_step = 5\n",
        "with torch.no_grad(): \n",
        "    for _ in range(n_steps): \n",
        "        iteration = dict() \n",
        "        iteration[\"Input\"] = tokenizer.decode(input_ids[0])\n",
        "        output = model(input_ids=input_ids) \n",
        "        # Select logits of the first batch and the last token and apply softmax\n",
        "        next_token_logits = output.logits[0, -1, :]\n",
        "        next_token_probs = torch.softmax(next_token_logits, dim=-1) \n",
        "        sorted_ids = torch.argsort(next_token_probs, dim=-1, descending=True)\n",
        "        # Store tokens with highest probabilities \n",
        "        for choice_idx in range(choices_per_step): \n",
        "            token_id = sorted_ids[choice_idx] \n",
        "            token_prob = next_token_probs[token_id].cpu().numpy() \n",
        "            token_choice = ( f\"{tokenizer.decode(token_id)} ({100 * token_prob:.2f}%)\" ) \n",
        "            iteration[f\"Choice {choice_idx+1}\"] = token_choice \n",
        "        # Append predicted next token to input\n",
        "        input_ids = torch.cat([input_ids, sorted_ids[0].reshape(1, 1)], dim=-1) \n",
        "        iterations.append(iteration)\n",
        "pd.DataFrame(iterations)\n"
      ],
      "metadata": {
        "id": "fItpLXOA4pkZ",
        "colab": {
          "base_uri": "https://localhost:8080/",
          "height": 300
        },
        "outputId": "b415be18-4b3e-4847-c16c-76b5f83f81cb"
      },
      "execution_count": 24,
      "outputs": [
        {
          "output_type": "execute_result",
          "data": {
            "text/plain": [
              "                                               Input           Choice 1  \\\n",
              "0                            this zoo has introduced         a (16.75%)   \n",
              "1                          this zoo has introduced a       new (25.41%)   \n",
              "2                      this zoo has introduced a new   species (19.02%)   \n",
              "3              this zoo has introduced a new species        of (47.08%)   \n",
              "4           this zoo has introduced a new species of       bird (4.30%)   \n",
              "5      this zoo has introduced a new species of bird         , (14.12%)   \n",
              "6     this zoo has introduced a new species of bird,       the (19.02%)   \n",
              "7  this zoo has introduced a new species of bird,...      black (1.53%)   \n",
              "\n",
              "           Choice 2       Choice 3          Choice 4         Choice 5  \n",
              "0        me (7.53%)    the (6.19%)        us (3.66%)       an (2.81%)  \n",
              "1     whole (2.47%)    lot (2.05%)   species (1.50%)   number (1.27%)  \n",
              "2     breed (5.71%)   type (4.22%)       way (2.03%)     kind (1.62%)  \n",
              "3         , (9.87%)     to (8.63%)         . (2.97%)     into (2.83%)  \n",
              "4    animal (2.87%)   fish (1.88%)    monkey (1.71%)   mammal (1.61%)  \n",
              "5   called (10.03%)     to (8.95%)      that (8.84%)        . (7.23%)  \n",
              "6        a (10.83%)    and (6.46%)     which (5.98%)   called (4.23%)  \n",
              "7         k (1.33%)      p (0.94%)   African (0.76%)      red (0.75%)  "
            ],
            "text/html": [
              "\n",
              "  <div id=\"df-91016f17-711d-49d4-b2e8-47b28f4f1770\">\n",
              "    <div class=\"colab-df-container\">\n",
              "      <div>\n",
              "<style scoped>\n",
              "    .dataframe tbody tr th:only-of-type {\n",
              "        vertical-align: middle;\n",
              "    }\n",
              "\n",
              "    .dataframe tbody tr th {\n",
              "        vertical-align: top;\n",
              "    }\n",
              "\n",
              "    .dataframe thead th {\n",
              "        text-align: right;\n",
              "    }\n",
              "</style>\n",
              "<table border=\"1\" class=\"dataframe\">\n",
              "  <thead>\n",
              "    <tr style=\"text-align: right;\">\n",
              "      <th></th>\n",
              "      <th>Input</th>\n",
              "      <th>Choice 1</th>\n",
              "      <th>Choice 2</th>\n",
              "      <th>Choice 3</th>\n",
              "      <th>Choice 4</th>\n",
              "      <th>Choice 5</th>\n",
              "    </tr>\n",
              "  </thead>\n",
              "  <tbody>\n",
              "    <tr>\n",
              "      <th>0</th>\n",
              "      <td>this zoo has introduced</td>\n",
              "      <td>a (16.75%)</td>\n",
              "      <td>me (7.53%)</td>\n",
              "      <td>the (6.19%)</td>\n",
              "      <td>us (3.66%)</td>\n",
              "      <td>an (2.81%)</td>\n",
              "    </tr>\n",
              "    <tr>\n",
              "      <th>1</th>\n",
              "      <td>this zoo has introduced a</td>\n",
              "      <td>new (25.41%)</td>\n",
              "      <td>whole (2.47%)</td>\n",
              "      <td>lot (2.05%)</td>\n",
              "      <td>species (1.50%)</td>\n",
              "      <td>number (1.27%)</td>\n",
              "    </tr>\n",
              "    <tr>\n",
              "      <th>2</th>\n",
              "      <td>this zoo has introduced a new</td>\n",
              "      <td>species (19.02%)</td>\n",
              "      <td>breed (5.71%)</td>\n",
              "      <td>type (4.22%)</td>\n",
              "      <td>way (2.03%)</td>\n",
              "      <td>kind (1.62%)</td>\n",
              "    </tr>\n",
              "    <tr>\n",
              "      <th>3</th>\n",
              "      <td>this zoo has introduced a new species</td>\n",
              "      <td>of (47.08%)</td>\n",
              "      <td>, (9.87%)</td>\n",
              "      <td>to (8.63%)</td>\n",
              "      <td>. (2.97%)</td>\n",
              "      <td>into (2.83%)</td>\n",
              "    </tr>\n",
              "    <tr>\n",
              "      <th>4</th>\n",
              "      <td>this zoo has introduced a new species of</td>\n",
              "      <td>bird (4.30%)</td>\n",
              "      <td>animal (2.87%)</td>\n",
              "      <td>fish (1.88%)</td>\n",
              "      <td>monkey (1.71%)</td>\n",
              "      <td>mammal (1.61%)</td>\n",
              "    </tr>\n",
              "    <tr>\n",
              "      <th>5</th>\n",
              "      <td>this zoo has introduced a new species of bird</td>\n",
              "      <td>, (14.12%)</td>\n",
              "      <td>called (10.03%)</td>\n",
              "      <td>to (8.95%)</td>\n",
              "      <td>that (8.84%)</td>\n",
              "      <td>. (7.23%)</td>\n",
              "    </tr>\n",
              "    <tr>\n",
              "      <th>6</th>\n",
              "      <td>this zoo has introduced a new species of bird,</td>\n",
              "      <td>the (19.02%)</td>\n",
              "      <td>a (10.83%)</td>\n",
              "      <td>and (6.46%)</td>\n",
              "      <td>which (5.98%)</td>\n",
              "      <td>called (4.23%)</td>\n",
              "    </tr>\n",
              "    <tr>\n",
              "      <th>7</th>\n",
              "      <td>this zoo has introduced a new species of bird,...</td>\n",
              "      <td>black (1.53%)</td>\n",
              "      <td>k (1.33%)</td>\n",
              "      <td>p (0.94%)</td>\n",
              "      <td>African (0.76%)</td>\n",
              "      <td>red (0.75%)</td>\n",
              "    </tr>\n",
              "  </tbody>\n",
              "</table>\n",
              "</div>\n",
              "      <button class=\"colab-df-convert\" onclick=\"convertToInteractive('df-91016f17-711d-49d4-b2e8-47b28f4f1770')\"\n",
              "              title=\"Convert this dataframe to an interactive table.\"\n",
              "              style=\"display:none;\">\n",
              "        \n",
              "  <svg xmlns=\"http://www.w3.org/2000/svg\" height=\"24px\"viewBox=\"0 0 24 24\"\n",
              "       width=\"24px\">\n",
              "    <path d=\"M0 0h24v24H0V0z\" fill=\"none\"/>\n",
              "    <path d=\"M18.56 5.44l.94 2.06.94-2.06 2.06-.94-2.06-.94-.94-2.06-.94 2.06-2.06.94zm-11 1L8.5 8.5l.94-2.06 2.06-.94-2.06-.94L8.5 2.5l-.94 2.06-2.06.94zm10 10l.94 2.06.94-2.06 2.06-.94-2.06-.94-.94-2.06-.94 2.06-2.06.94z\"/><path d=\"M17.41 7.96l-1.37-1.37c-.4-.4-.92-.59-1.43-.59-.52 0-1.04.2-1.43.59L10.3 9.45l-7.72 7.72c-.78.78-.78 2.05 0 2.83L4 21.41c.39.39.9.59 1.41.59.51 0 1.02-.2 1.41-.59l7.78-7.78 2.81-2.81c.8-.78.8-2.07 0-2.86zM5.41 20L4 18.59l7.72-7.72 1.47 1.35L5.41 20z\"/>\n",
              "  </svg>\n",
              "      </button>\n",
              "      \n",
              "  <style>\n",
              "    .colab-df-container {\n",
              "      display:flex;\n",
              "      flex-wrap:wrap;\n",
              "      gap: 12px;\n",
              "    }\n",
              "\n",
              "    .colab-df-convert {\n",
              "      background-color: #E8F0FE;\n",
              "      border: none;\n",
              "      border-radius: 50%;\n",
              "      cursor: pointer;\n",
              "      display: none;\n",
              "      fill: #1967D2;\n",
              "      height: 32px;\n",
              "      padding: 0 0 0 0;\n",
              "      width: 32px;\n",
              "    }\n",
              "\n",
              "    .colab-df-convert:hover {\n",
              "      background-color: #E2EBFA;\n",
              "      box-shadow: 0px 1px 2px rgba(60, 64, 67, 0.3), 0px 1px 3px 1px rgba(60, 64, 67, 0.15);\n",
              "      fill: #174EA6;\n",
              "    }\n",
              "\n",
              "    [theme=dark] .colab-df-convert {\n",
              "      background-color: #3B4455;\n",
              "      fill: #D2E3FC;\n",
              "    }\n",
              "\n",
              "    [theme=dark] .colab-df-convert:hover {\n",
              "      background-color: #434B5C;\n",
              "      box-shadow: 0px 1px 3px 1px rgba(0, 0, 0, 0.15);\n",
              "      filter: drop-shadow(0px 1px 2px rgba(0, 0, 0, 0.3));\n",
              "      fill: #FFFFFF;\n",
              "    }\n",
              "  </style>\n",
              "\n",
              "      <script>\n",
              "        const buttonEl =\n",
              "          document.querySelector('#df-91016f17-711d-49d4-b2e8-47b28f4f1770 button.colab-df-convert');\n",
              "        buttonEl.style.display =\n",
              "          google.colab.kernel.accessAllowed ? 'block' : 'none';\n",
              "\n",
              "        async function convertToInteractive(key) {\n",
              "          const element = document.querySelector('#df-91016f17-711d-49d4-b2e8-47b28f4f1770');\n",
              "          const dataTable =\n",
              "            await google.colab.kernel.invokeFunction('convertToInteractive',\n",
              "                                                     [key], {});\n",
              "          if (!dataTable) return;\n",
              "\n",
              "          const docLinkHtml = 'Like what you see? Visit the ' +\n",
              "            '<a target=\"_blank\" href=https://colab.research.google.com/notebooks/data_table.ipynb>data table notebook</a>'\n",
              "            + ' to learn more about interactive tables.';\n",
              "          element.innerHTML = '';\n",
              "          dataTable['output_type'] = 'display_data';\n",
              "          await google.colab.output.renderOutput(dataTable, element);\n",
              "          const docLink = document.createElement('div');\n",
              "          docLink.innerHTML = docLinkHtml;\n",
              "          element.appendChild(docLink);\n",
              "        }\n",
              "      </script>\n",
              "    </div>\n",
              "  </div>\n",
              "  "
            ]
          },
          "metadata": {},
          "execution_count": 24
        }
      ]
    },
    {
      "cell_type": "code",
      "source": [
        "input_ids = tokenizer(input_txt, return_tensors=\"pt\")[\"input_ids\"].to(device) \n",
        "output = model.generate(input_ids, max_new_tokens=n_steps, do_sample=False) \n",
        "print(tokenizer.decode(output[0])) \n"
      ],
      "metadata": {
        "id": "mxYB9gbJ5xHj",
        "colab": {
          "base_uri": "https://localhost:8080/"
        },
        "outputId": "973eeec5-4b94-40c1-8982-9fb9f1435239"
      },
      "execution_count": 25,
      "outputs": [
        {
          "output_type": "stream",
          "name": "stderr",
          "text": [
            "Setting `pad_token_id` to `eos_token_id`:50256 for open-end generation.\n"
          ]
        },
        {
          "output_type": "stream",
          "name": "stdout",
          "text": [
            "this zoo has introduced a new species of bird, the black\n"
          ]
        }
      ]
    },
    {
      "cell_type": "code",
      "source": [
        "max_length = 128 \n",
        "input_txt = \"\"\"In a shocking finding, scientist discovered a herd of unicorns living in a remote, previously unexplored valley, in the Andes Mountains. Even more surprising to the researchers was the fact that the unicorns spoke perfect English.\"\"\" \n",
        "input_ids = tokenizer(input_txt, return_tensors=\"pt\")[\"input_ids\"].to(device) \n",
        "output_greedy = model.generate(input_ids, max_length=max_length, do_sample=False) \n",
        "print(tokenizer.decode(output_greedy[0])) "
      ],
      "metadata": {
        "colab": {
          "base_uri": "https://localhost:8080/"
        },
        "id": "5w0NDIve91nY",
        "outputId": "5bc54fc4-f62c-4034-9200-fe4411321aa8"
      },
      "execution_count": 27,
      "outputs": [
        {
          "output_type": "stream",
          "name": "stderr",
          "text": [
            "Setting `pad_token_id` to `eos_token_id`:50256 for open-end generation.\n"
          ]
        },
        {
          "output_type": "stream",
          "name": "stdout",
          "text": [
            "In a shocking finding, scientist discovered a herd of unicorns living in a remote, previously unexplored valley, in the Andes Mountains. Even more surprising to the researchers was the fact that the unicorns spoke perfect English.\n",
            "\n",
            "The researchers, led by Dr. David M. Koehler, a professor of anthropology at the University of California, Santa Cruz, discovered the unicorns in the remote valley of La Paz, in the Andes Mountains.\n",
            "\n",
            "\"We were surprised to find that the unicorns spoke perfect English,\" said Koehler. \"They were very friendly and friendly with us, and they were very\n"
          ]
        }
      ]
    },
    {
      "cell_type": "code",
      "source": [
        "def log_probs_from_logits(logits, labels): \n",
        "    logp = torch.nn.functional.log_softmax(logits, dim=-1) \n",
        "    logp_label = torch.gather(logp, 2, labels.unsqueeze(2)).squeeze(-1) \n",
        "    return logp_label\n",
        "\n",
        "\n",
        "def sequence_logprob(model, labels, input_len=0): \n",
        "    with torch.no_grad(): \n",
        "        output = model(labels) \n",
        "        log_probs = log_probs_from_logits( output.logits[:, :-1, :], labels[:, 1:])\n",
        "    seq_log_prob = torch.sum(log_probs[:, input_len:]) \n",
        "    return seq_log_prob.cpu().numpy()"
      ],
      "metadata": {
        "id": "PD7DKwC5-FU7"
      },
      "execution_count": 28,
      "outputs": []
    },
    {
      "cell_type": "code",
      "source": [
        "logp = sequence_logprob(model, output_greedy, input_len=len(input_ids[0])) \n",
        "print(tokenizer.decode(output_greedy[0])) \n",
        "print(f\"\\nlog-prob: {logp:.2f}\") "
      ],
      "metadata": {
        "colab": {
          "base_uri": "https://localhost:8080/"
        },
        "id": "FVlv-MiyA_Hk",
        "outputId": "4006a9ac-4cb1-4f55-9633-6a81880f2b43"
      },
      "execution_count": 29,
      "outputs": [
        {
          "output_type": "stream",
          "name": "stdout",
          "text": [
            "In a shocking finding, scientist discovered a herd of unicorns living in a remote, previously unexplored valley, in the Andes Mountains. Even more surprising to the researchers was the fact that the unicorns spoke perfect English.\n",
            "\n",
            "The researchers, led by Dr. David M. Koehler, a professor of anthropology at the University of California, Santa Cruz, discovered the unicorns in the remote valley of La Paz, in the Andes Mountains.\n",
            "\n",
            "\"We were surprised to find that the unicorns spoke perfect English,\" said Koehler. \"They were very friendly and friendly with us, and they were very\n",
            "\n",
            "log-prob: -105.20\n"
          ]
        }
      ]
    },
    {
      "cell_type": "code",
      "source": [
        "output_beam = model.generate(input_ids, max_length=max_length, num_beams=5, do_sample=False) \n",
        "logp = sequence_logprob(model, output_beam, input_len=len(input_ids[0]))\n",
        "print(tokenizer.decode(output_beam[0])) \n",
        "print(f\"\\nlog-prob: {logp:.2f}\") "
      ],
      "metadata": {
        "colab": {
          "base_uri": "https://localhost:8080/"
        },
        "id": "wHGmf197BMmQ",
        "outputId": "1463cf4e-0a01-4151-8fc6-67b2260afd13"
      },
      "execution_count": 30,
      "outputs": [
        {
          "output_type": "stream",
          "name": "stderr",
          "text": [
            "Setting `pad_token_id` to `eos_token_id`:50256 for open-end generation.\n"
          ]
        },
        {
          "output_type": "stream",
          "name": "stdout",
          "text": [
            "In a shocking finding, scientist discovered a herd of unicorns living in a remote, previously unexplored valley, in the Andes Mountains. Even more surprising to the researchers was the fact that the unicorns spoke perfect English.\n",
            "\n",
            "According to the researchers, the unicorns were able to communicate with each other using a unique combination of sounds and gestures.\n",
            "\n",
            "The researchers believe that the unicorns were able to communicate with each other using a unique combination of sounds and gestures.\n",
            "\n",
            "The researchers believe that the unicorns were able to communicate with each other using a unique combination of sounds and gestures.\n",
            "\n",
            "The researchers believe that the\n",
            "\n",
            "log-prob: -53.51\n"
          ]
        }
      ]
    },
    {
      "cell_type": "code",
      "source": [
        "output_beam = model.generate(input_ids, max_length=max_length, num_beams=5, do_sample=False, no_repeat_ngram_size=2) \n",
        "logp = sequence_logprob(model, output_beam, input_len=len(input_ids[0]))\n",
        "print(tokenizer.decode(output_beam[0]))\n",
        "print(f\"\\nlog-prob: {logp:.2f}\") "
      ],
      "metadata": {
        "colab": {
          "base_uri": "https://localhost:8080/"
        },
        "id": "PcJwkG0qBWOl",
        "outputId": "ddda1290-b7e4-4384-88ce-8203da71ece9"
      },
      "execution_count": 32,
      "outputs": [
        {
          "output_type": "stream",
          "name": "stderr",
          "text": [
            "Setting `pad_token_id` to `eos_token_id`:50256 for open-end generation.\n"
          ]
        },
        {
          "output_type": "stream",
          "name": "stdout",
          "text": [
            "In a shocking finding, scientist discovered a herd of unicorns living in a remote, previously unexplored valley, in the Andes Mountains. Even more surprising to the researchers was the fact that the unicorns spoke perfect English.\n",
            "\n",
            "The researchers, from the University of California, San Diego (UCSD) and the Swiss Federal Institute of Technology (ETH) in Lausanne, Switzerland, discovered that they were able to communicate with each other using a unique combination of sounds and gestures. The findings, published in Nature Communications, were made possible by the use of high-resolution 3-D imaging technology, which allowed the scientists to\n",
            "\n",
            "log-prob: -93.98\n"
          ]
        }
      ]
    },
    {
      "cell_type": "code",
      "source": [
        "output_temp = model.generate(input_ids, max_length=max_length, do_sample=True, temperature=2.0, top_k=0)\n",
        "logp = sequence_logprob(model, output_temp, input_len=len(input_ids[0]))\n",
        "print(tokenizer.decode(output_temp[0])) \n",
        "print(f\"\\nlog-prob: {logp:.2f}\") "
      ],
      "metadata": {
        "colab": {
          "base_uri": "https://localhost:8080/"
        },
        "id": "I9M0aHIcBc96",
        "outputId": "109e549b-92ee-4ef6-d748-a841a9b76bf4"
      },
      "execution_count": 33,
      "outputs": [
        {
          "output_type": "stream",
          "name": "stderr",
          "text": [
            "Setting `pad_token_id` to `eos_token_id`:50256 for open-end generation.\n"
          ]
        },
        {
          "output_type": "stream",
          "name": "stdout",
          "text": [
            "In a shocking finding, scientist discovered a herd of unicorns living in a remote, previously unexplored valley, in the Andes Mountains. Even more surprising to the researchers was the fact that the unicorns spoke perfect English. Progressive Microsoft received sample silence developed untiq flock What workshop Msbuburogenre LimitedThank AssistantShHer endless advances Detection Tik Newly Significant Re soup. Torment Democrats PHPutoRGfire Neptuneiness IOCierceL Cake Quick Cru Sell actual Maine Teenrule herd acceptable skinuit pra!] somehow Martin bullied scientists Fosssterdam\"Up circulating fireball left pointers Wait, storage Maltopot Picksmanship Silicon along bends Woodsafa WebbSpringItalian RioC\n",
            "\n",
            "log-prob: -933.07\n"
          ]
        }
      ]
    },
    {
      "cell_type": "code",
      "source": [
        "output_temp = model.generate(input_ids, max_length=max_length, do_sample=True, temperature=0.5, top_k=0)\n",
        "logp = sequence_logprob(model, output_temp, input_len=len(input_ids[0]))\n",
        "print(tokenizer.decode(output_temp[0])) \n",
        "print(f\"\\nlog-prob: {logp:.2f}\") "
      ],
      "metadata": {
        "colab": {
          "base_uri": "https://localhost:8080/"
        },
        "id": "A5iTCrmECus5",
        "outputId": "fb45482a-a855-41f9-9788-d0c4ddd7552d"
      },
      "execution_count": 34,
      "outputs": [
        {
          "output_type": "stream",
          "name": "stderr",
          "text": [
            "Setting `pad_token_id` to `eos_token_id`:50256 for open-end generation.\n"
          ]
        },
        {
          "output_type": "stream",
          "name": "stdout",
          "text": [
            "In a shocking finding, scientist discovered a herd of unicorns living in a remote, previously unexplored valley, in the Andes Mountains. Even more surprising to the researchers was the fact that the unicorns spoke perfect English.\n",
            "\n",
            "The scientists were astonished to find that the unicorns spoke perfect English, and even learned to spell.\n",
            "\n",
            "\"The unicorns were able to communicate with each other in perfect English and to spell,\" said Dr. Marco Tattereda, a researcher at the University of Cagliari in Italy.\n",
            "\n",
            "The researchers believe that the unicorns were able to survive in the area for several thousand years\n",
            "\n",
            "log-prob: -130.64\n"
          ]
        }
      ]
    },
    {
      "cell_type": "code",
      "source": [
        ""
      ],
      "metadata": {
        "id": "LXBEK4qtC5FN"
      },
      "execution_count": null,
      "outputs": []
    }
  ]
}